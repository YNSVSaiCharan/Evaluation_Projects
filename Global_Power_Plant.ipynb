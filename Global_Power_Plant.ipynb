{
 "cells": [
  {
   "cell_type": "markdown",
   "id": "bf959835",
   "metadata": {},
   "source": [
    "## Problem Statement\n",
    "The Global Power Plant Database is a comprehensive, open source database of power plants around the world. It centralizes power plant data to make it easier to navigate, compare and draw insights for one’s own analysis. The database covers approximately 35,000 power plants from 167 countries and includes thermal plants (e.g. coal, gas, oil, nuclear, biomass, waste, geothermal) and renewables (e.g. hydro, wind, solar). Each power plant is geolocated and entries contain information on plant capacity, generation, ownership, and fuel type. It will be continuously updated as data becomes available.\n",
    "\n",
    "we have database for India.We need to predict:- 1.primary_fuel,which is categorical column,So It is a classification Problem. 2.capacity_mw ,which is continuous data,so it is a Regression problem."
   ]
  },
  {
   "cell_type": "code",
   "execution_count": 141,
   "id": "e9da9970",
   "metadata": {},
   "outputs": [],
   "source": [
    "#importing libraries\n",
    "import pandas as pd\n",
    "import numpy as np\n",
    "import seaborn as sns\n",
    "import matplotlib.pyplot as plt\n",
    "from sklearn.preprocessing import LabelEncoder\n",
    "from sklearn.preprocessing import OrdinalEncoder\n",
    "from scipy.stats import zscore\n",
    "from imblearn.over_sampling import SMOTE\n",
    "from sklearn.model_selection import train_test_split\n",
    "from sklearn.preprocessing import power_transform,StandardScaler,PowerTransformer\n",
    "from statsmodels.stats.outliers_influence import variance_inflation_factor\n",
    "from sklearn.linear_model import LogisticRegression\n",
    "from sklearn.tree import DecisionTreeClassifier\n",
    "from sklearn.neighbors import KNeighborsClassifier\n",
    "from sklearn.ensemble import RandomForestClassifier\n",
    "from sklearn.svm import SVC,SVR\n",
    "from sklearn.metrics import accuracy_score,classification_report,confusion_matrix,plot_roc_curve\n",
    "from sklearn.model_selection import cross_val_score\n",
    "from sklearn.model_selection import GridSearchCV\n",
    "from sklearn.linear_model import LinearRegression\n",
    "from sklearn.metrics import r2_score,mean_absolute_error,mean_squared_error\n",
    "from sklearn.ensemble import RandomForestRegressor\n",
    "from sklearn.tree import DecisionTreeRegressor\n",
    "from sklearn.neighbors import KNeighborsRegressor\n",
    "from xgboost import XGBClassifier\n",
    "from xgboost import XGBRegressor\n",
    "from sklearn.linear_model import Ridge,RidgeCV\n",
    "import joblib\n",
    "import warnings\n",
    "warnings.filterwarnings('ignore')"
   ]
  },
  {
   "cell_type": "code",
   "execution_count": 77,
   "id": "d42cb013",
   "metadata": {},
   "outputs": [],
   "source": [
    "df=pd.read_csv('database_IND.csv')"
   ]
  },
  {
   "cell_type": "code",
   "execution_count": 3,
   "id": "8943656e",
   "metadata": {},
   "outputs": [
    {
     "data": {
      "text/html": [
       "<div>\n",
       "<style scoped>\n",
       "    .dataframe tbody tr th:only-of-type {\n",
       "        vertical-align: middle;\n",
       "    }\n",
       "\n",
       "    .dataframe tbody tr th {\n",
       "        vertical-align: top;\n",
       "    }\n",
       "\n",
       "    .dataframe thead th {\n",
       "        text-align: right;\n",
       "    }\n",
       "</style>\n",
       "<table border=\"1\" class=\"dataframe\">\n",
       "  <thead>\n",
       "    <tr style=\"text-align: right;\">\n",
       "      <th></th>\n",
       "      <th>country</th>\n",
       "      <th>country_long</th>\n",
       "      <th>name</th>\n",
       "      <th>gppd_idnr</th>\n",
       "      <th>capacity_mw</th>\n",
       "      <th>latitude</th>\n",
       "      <th>longitude</th>\n",
       "      <th>primary_fuel</th>\n",
       "      <th>other_fuel1</th>\n",
       "      <th>other_fuel2</th>\n",
       "      <th>...</th>\n",
       "      <th>year_of_capacity_data</th>\n",
       "      <th>generation_gwh_2013</th>\n",
       "      <th>generation_gwh_2014</th>\n",
       "      <th>generation_gwh_2015</th>\n",
       "      <th>generation_gwh_2016</th>\n",
       "      <th>generation_gwh_2017</th>\n",
       "      <th>generation_gwh_2018</th>\n",
       "      <th>generation_gwh_2019</th>\n",
       "      <th>generation_data_source</th>\n",
       "      <th>estimated_generation_gwh</th>\n",
       "    </tr>\n",
       "  </thead>\n",
       "  <tbody>\n",
       "    <tr>\n",
       "      <th>0</th>\n",
       "      <td>IND</td>\n",
       "      <td>India</td>\n",
       "      <td>ACME Solar Tower</td>\n",
       "      <td>WRI1020239</td>\n",
       "      <td>2.5</td>\n",
       "      <td>28.1839</td>\n",
       "      <td>73.2407</td>\n",
       "      <td>Solar</td>\n",
       "      <td>NaN</td>\n",
       "      <td>NaN</td>\n",
       "      <td>...</td>\n",
       "      <td>NaN</td>\n",
       "      <td>NaN</td>\n",
       "      <td>NaN</td>\n",
       "      <td>NaN</td>\n",
       "      <td>NaN</td>\n",
       "      <td>NaN</td>\n",
       "      <td>NaN</td>\n",
       "      <td>NaN</td>\n",
       "      <td>NaN</td>\n",
       "      <td>NaN</td>\n",
       "    </tr>\n",
       "    <tr>\n",
       "      <th>1</th>\n",
       "      <td>IND</td>\n",
       "      <td>India</td>\n",
       "      <td>ADITYA CEMENT WORKS</td>\n",
       "      <td>WRI1019881</td>\n",
       "      <td>98.0</td>\n",
       "      <td>24.7663</td>\n",
       "      <td>74.6090</td>\n",
       "      <td>Coal</td>\n",
       "      <td>NaN</td>\n",
       "      <td>NaN</td>\n",
       "      <td>...</td>\n",
       "      <td>NaN</td>\n",
       "      <td>NaN</td>\n",
       "      <td>NaN</td>\n",
       "      <td>NaN</td>\n",
       "      <td>NaN</td>\n",
       "      <td>NaN</td>\n",
       "      <td>NaN</td>\n",
       "      <td>NaN</td>\n",
       "      <td>NaN</td>\n",
       "      <td>NaN</td>\n",
       "    </tr>\n",
       "    <tr>\n",
       "      <th>2</th>\n",
       "      <td>IND</td>\n",
       "      <td>India</td>\n",
       "      <td>AES Saurashtra Windfarms</td>\n",
       "      <td>WRI1026669</td>\n",
       "      <td>39.2</td>\n",
       "      <td>21.9038</td>\n",
       "      <td>69.3732</td>\n",
       "      <td>Wind</td>\n",
       "      <td>NaN</td>\n",
       "      <td>NaN</td>\n",
       "      <td>...</td>\n",
       "      <td>NaN</td>\n",
       "      <td>NaN</td>\n",
       "      <td>NaN</td>\n",
       "      <td>NaN</td>\n",
       "      <td>NaN</td>\n",
       "      <td>NaN</td>\n",
       "      <td>NaN</td>\n",
       "      <td>NaN</td>\n",
       "      <td>NaN</td>\n",
       "      <td>NaN</td>\n",
       "    </tr>\n",
       "    <tr>\n",
       "      <th>3</th>\n",
       "      <td>IND</td>\n",
       "      <td>India</td>\n",
       "      <td>AGARTALA GT</td>\n",
       "      <td>IND0000001</td>\n",
       "      <td>135.0</td>\n",
       "      <td>23.8712</td>\n",
       "      <td>91.3602</td>\n",
       "      <td>Gas</td>\n",
       "      <td>NaN</td>\n",
       "      <td>NaN</td>\n",
       "      <td>...</td>\n",
       "      <td>2019.0</td>\n",
       "      <td>NaN</td>\n",
       "      <td>617.789264</td>\n",
       "      <td>843.747</td>\n",
       "      <td>886.004428</td>\n",
       "      <td>663.774500</td>\n",
       "      <td>626.239128</td>\n",
       "      <td>NaN</td>\n",
       "      <td>Central Electricity Authority</td>\n",
       "      <td>NaN</td>\n",
       "    </tr>\n",
       "    <tr>\n",
       "      <th>4</th>\n",
       "      <td>IND</td>\n",
       "      <td>India</td>\n",
       "      <td>AKALTARA TPP</td>\n",
       "      <td>IND0000002</td>\n",
       "      <td>1800.0</td>\n",
       "      <td>21.9603</td>\n",
       "      <td>82.4091</td>\n",
       "      <td>Coal</td>\n",
       "      <td>Oil</td>\n",
       "      <td>NaN</td>\n",
       "      <td>...</td>\n",
       "      <td>2019.0</td>\n",
       "      <td>NaN</td>\n",
       "      <td>3035.550000</td>\n",
       "      <td>5916.370</td>\n",
       "      <td>6243.000000</td>\n",
       "      <td>5385.579736</td>\n",
       "      <td>7279.000000</td>\n",
       "      <td>NaN</td>\n",
       "      <td>Central Electricity Authority</td>\n",
       "      <td>NaN</td>\n",
       "    </tr>\n",
       "  </tbody>\n",
       "</table>\n",
       "<p>5 rows × 27 columns</p>\n",
       "</div>"
      ],
      "text/plain": [
       "  country country_long                      name   gppd_idnr  capacity_mw  \\\n",
       "0     IND        India          ACME Solar Tower  WRI1020239          2.5   \n",
       "1     IND        India       ADITYA CEMENT WORKS  WRI1019881         98.0   \n",
       "2     IND        India  AES Saurashtra Windfarms  WRI1026669         39.2   \n",
       "3     IND        India               AGARTALA GT  IND0000001        135.0   \n",
       "4     IND        India              AKALTARA TPP  IND0000002       1800.0   \n",
       "\n",
       "   latitude  longitude primary_fuel other_fuel1 other_fuel2  ...  \\\n",
       "0   28.1839    73.2407        Solar         NaN         NaN  ...   \n",
       "1   24.7663    74.6090         Coal         NaN         NaN  ...   \n",
       "2   21.9038    69.3732         Wind         NaN         NaN  ...   \n",
       "3   23.8712    91.3602          Gas         NaN         NaN  ...   \n",
       "4   21.9603    82.4091         Coal         Oil         NaN  ...   \n",
       "\n",
       "   year_of_capacity_data  generation_gwh_2013 generation_gwh_2014  \\\n",
       "0                    NaN                  NaN                 NaN   \n",
       "1                    NaN                  NaN                 NaN   \n",
       "2                    NaN                  NaN                 NaN   \n",
       "3                 2019.0                  NaN          617.789264   \n",
       "4                 2019.0                  NaN         3035.550000   \n",
       "\n",
       "  generation_gwh_2015 generation_gwh_2016 generation_gwh_2017  \\\n",
       "0                 NaN                 NaN                 NaN   \n",
       "1                 NaN                 NaN                 NaN   \n",
       "2                 NaN                 NaN                 NaN   \n",
       "3             843.747          886.004428          663.774500   \n",
       "4            5916.370         6243.000000         5385.579736   \n",
       "\n",
       "   generation_gwh_2018  generation_gwh_2019         generation_data_source  \\\n",
       "0                  NaN                  NaN                            NaN   \n",
       "1                  NaN                  NaN                            NaN   \n",
       "2                  NaN                  NaN                            NaN   \n",
       "3           626.239128                  NaN  Central Electricity Authority   \n",
       "4          7279.000000                  NaN  Central Electricity Authority   \n",
       "\n",
       "   estimated_generation_gwh  \n",
       "0                       NaN  \n",
       "1                       NaN  \n",
       "2                       NaN  \n",
       "3                       NaN  \n",
       "4                       NaN  \n",
       "\n",
       "[5 rows x 27 columns]"
      ]
     },
     "execution_count": 3,
     "metadata": {},
     "output_type": "execute_result"
    }
   ],
   "source": [
    "df.head()"
   ]
  },
  {
   "cell_type": "code",
   "execution_count": 4,
   "id": "ed0e6838",
   "metadata": {},
   "outputs": [
    {
     "data": {
      "text/plain": [
       "(907, 27)"
      ]
     },
     "execution_count": 4,
     "metadata": {},
     "output_type": "execute_result"
    }
   ],
   "source": [
    "df.shape"
   ]
  },
  {
   "cell_type": "code",
   "execution_count": 5,
   "id": "946a1f14",
   "metadata": {},
   "outputs": [
    {
     "name": "stdout",
     "output_type": "stream",
     "text": [
      "<class 'pandas.core.frame.DataFrame'>\n",
      "RangeIndex: 907 entries, 0 to 906\n",
      "Data columns (total 27 columns):\n",
      " #   Column                    Non-Null Count  Dtype  \n",
      "---  ------                    --------------  -----  \n",
      " 0   country                   907 non-null    object \n",
      " 1   country_long              907 non-null    object \n",
      " 2   name                      907 non-null    object \n",
      " 3   gppd_idnr                 907 non-null    object \n",
      " 4   capacity_mw               907 non-null    float64\n",
      " 5   latitude                  861 non-null    float64\n",
      " 6   longitude                 861 non-null    float64\n",
      " 7   primary_fuel              907 non-null    object \n",
      " 8   other_fuel1               198 non-null    object \n",
      " 9   other_fuel2               1 non-null      object \n",
      " 10  other_fuel3               0 non-null      float64\n",
      " 11  commissioning_year        527 non-null    float64\n",
      " 12  owner                     342 non-null    object \n",
      " 13  source                    907 non-null    object \n",
      " 14  url                       907 non-null    object \n",
      " 15  geolocation_source        888 non-null    object \n",
      " 16  wepp_id                   0 non-null      float64\n",
      " 17  year_of_capacity_data     519 non-null    float64\n",
      " 18  generation_gwh_2013       0 non-null      float64\n",
      " 19  generation_gwh_2014       398 non-null    float64\n",
      " 20  generation_gwh_2015       422 non-null    float64\n",
      " 21  generation_gwh_2016       434 non-null    float64\n",
      " 22  generation_gwh_2017       440 non-null    float64\n",
      " 23  generation_gwh_2018       448 non-null    float64\n",
      " 24  generation_gwh_2019       0 non-null      float64\n",
      " 25  generation_data_source    449 non-null    object \n",
      " 26  estimated_generation_gwh  0 non-null      float64\n",
      "dtypes: float64(15), object(12)\n",
      "memory usage: 191.4+ KB\n"
     ]
    }
   ],
   "source": [
    "df.info()"
   ]
  },
  {
   "cell_type": "markdown",
   "id": "59f6f332",
   "metadata": {},
   "source": [
    "1.there are so many missing values in the dataset,and there few object type columns, we need to do necessary data preprocessing                                                                                                               \n",
    "2.So we can see other_fuel2,other_fuel3,wepp_id,estimated_generation_gwh have not any data or only 1 data.So will drop these columns"
   ]
  },
  {
   "cell_type": "markdown",
   "id": "2815ab2d",
   "metadata": {},
   "source": [
    " ## Categorical column:-\n",
    "country,country_long,name,gppd_idnr,primary_fuel,other_fuel1,other_fuel2,owner,source,url,geolocation_source,generation_data_source"
   ]
  },
  {
   "cell_type": "markdown",
   "id": "33cadae1",
   "metadata": {},
   "source": [
    "## numerical column:\n",
    "capacity_mw,latitude,longitude,other_fuel3,commissioning_year,wepp_id,year_of_capacity_data,generation_gwh_2013,generation_gwh_2014,generation_gwh_2015,generation_gwh_2016,generation_gwh_2017,estimated_generation_gwh"
   ]
  },
  {
   "cell_type": "code",
   "execution_count": 78,
   "id": "6f07a3e7",
   "metadata": {},
   "outputs": [],
   "source": [
    "df.drop(columns=['other_fuel2','other_fuel3','wepp_id','estimated_generation_gwh','generation_gwh_2013','generation_gwh_2019'],axis=1,inplace =True)"
   ]
  },
  {
   "cell_type": "code",
   "execution_count": 13,
   "id": "78c0d33c",
   "metadata": {},
   "outputs": [
    {
     "data": {
      "text/plain": [
       "Index(['country', 'country_long', 'name', 'gppd_idnr', 'capacity_mw',\n",
       "       'latitude', 'longitude', 'primary_fuel', 'other_fuel1',\n",
       "       'commissioning_year', 'owner', 'source', 'url', 'geolocation_source',\n",
       "       'year_of_capacity_data', 'generation_gwh_2014', 'generation_gwh_2015',\n",
       "       'generation_gwh_2016', 'generation_gwh_2017', 'generation_gwh_2018',\n",
       "       'generation_data_source'],\n",
       "      dtype='object')"
      ]
     },
     "execution_count": 13,
     "metadata": {},
     "output_type": "execute_result"
    }
   ],
   "source": [
    "df.columns"
   ]
  },
  {
   "cell_type": "code",
   "execution_count": 14,
   "id": "801b5691",
   "metadata": {},
   "outputs": [
    {
     "data": {
      "text/plain": [
       "(907, 21)"
      ]
     },
     "execution_count": 14,
     "metadata": {},
     "output_type": "execute_result"
    }
   ],
   "source": [
    "df.shape"
   ]
  },
  {
   "cell_type": "code",
   "execution_count": 15,
   "id": "11bb8763",
   "metadata": {},
   "outputs": [
    {
     "data": {
      "text/html": [
       "<div>\n",
       "<style scoped>\n",
       "    .dataframe tbody tr th:only-of-type {\n",
       "        vertical-align: middle;\n",
       "    }\n",
       "\n",
       "    .dataframe tbody tr th {\n",
       "        vertical-align: top;\n",
       "    }\n",
       "\n",
       "    .dataframe thead th {\n",
       "        text-align: right;\n",
       "    }\n",
       "</style>\n",
       "<table border=\"1\" class=\"dataframe\">\n",
       "  <thead>\n",
       "    <tr style=\"text-align: right;\">\n",
       "      <th></th>\n",
       "      <th>capacity_mw</th>\n",
       "      <th>latitude</th>\n",
       "      <th>longitude</th>\n",
       "      <th>commissioning_year</th>\n",
       "      <th>year_of_capacity_data</th>\n",
       "      <th>generation_gwh_2014</th>\n",
       "      <th>generation_gwh_2015</th>\n",
       "      <th>generation_gwh_2016</th>\n",
       "      <th>generation_gwh_2017</th>\n",
       "      <th>generation_gwh_2018</th>\n",
       "    </tr>\n",
       "  </thead>\n",
       "  <tbody>\n",
       "    <tr>\n",
       "      <th>count</th>\n",
       "      <td>907.000000</td>\n",
       "      <td>861.000000</td>\n",
       "      <td>861.000000</td>\n",
       "      <td>527.000000</td>\n",
       "      <td>519.0</td>\n",
       "      <td>398.000000</td>\n",
       "      <td>422.000000</td>\n",
       "      <td>434.000000</td>\n",
       "      <td>440.000000</td>\n",
       "      <td>448.000000</td>\n",
       "    </tr>\n",
       "    <tr>\n",
       "      <th>mean</th>\n",
       "      <td>326.223755</td>\n",
       "      <td>21.197918</td>\n",
       "      <td>77.464907</td>\n",
       "      <td>1997.091082</td>\n",
       "      <td>2019.0</td>\n",
       "      <td>2431.823590</td>\n",
       "      <td>2428.226946</td>\n",
       "      <td>2467.936859</td>\n",
       "      <td>2547.759305</td>\n",
       "      <td>2600.804099</td>\n",
       "    </tr>\n",
       "    <tr>\n",
       "      <th>std</th>\n",
       "      <td>590.085456</td>\n",
       "      <td>6.239612</td>\n",
       "      <td>4.939316</td>\n",
       "      <td>17.082868</td>\n",
       "      <td>0.0</td>\n",
       "      <td>4026.440035</td>\n",
       "      <td>4194.596959</td>\n",
       "      <td>4162.884308</td>\n",
       "      <td>4196.991169</td>\n",
       "      <td>4314.880456</td>\n",
       "    </tr>\n",
       "    <tr>\n",
       "      <th>min</th>\n",
       "      <td>0.000000</td>\n",
       "      <td>8.168900</td>\n",
       "      <td>68.644700</td>\n",
       "      <td>1927.000000</td>\n",
       "      <td>2019.0</td>\n",
       "      <td>0.000000</td>\n",
       "      <td>0.000000</td>\n",
       "      <td>0.000000</td>\n",
       "      <td>0.000000</td>\n",
       "      <td>0.000000</td>\n",
       "    </tr>\n",
       "    <tr>\n",
       "      <th>25%</th>\n",
       "      <td>16.725000</td>\n",
       "      <td>16.773900</td>\n",
       "      <td>74.256200</td>\n",
       "      <td>1988.000000</td>\n",
       "      <td>2019.0</td>\n",
       "      <td>223.557672</td>\n",
       "      <td>176.381063</td>\n",
       "      <td>188.285252</td>\n",
       "      <td>177.874930</td>\n",
       "      <td>193.378250</td>\n",
       "    </tr>\n",
       "    <tr>\n",
       "      <th>50%</th>\n",
       "      <td>59.200000</td>\n",
       "      <td>21.780000</td>\n",
       "      <td>76.719500</td>\n",
       "      <td>2001.000000</td>\n",
       "      <td>2019.0</td>\n",
       "      <td>801.123775</td>\n",
       "      <td>711.181225</td>\n",
       "      <td>737.205450</td>\n",
       "      <td>817.977250</td>\n",
       "      <td>751.644375</td>\n",
       "    </tr>\n",
       "    <tr>\n",
       "      <th>75%</th>\n",
       "      <td>385.250000</td>\n",
       "      <td>25.512400</td>\n",
       "      <td>79.440800</td>\n",
       "      <td>2012.000000</td>\n",
       "      <td>2019.0</td>\n",
       "      <td>3035.306250</td>\n",
       "      <td>3084.121250</td>\n",
       "      <td>3282.861313</td>\n",
       "      <td>3275.690475</td>\n",
       "      <td>3143.535900</td>\n",
       "    </tr>\n",
       "    <tr>\n",
       "      <th>max</th>\n",
       "      <td>4760.000000</td>\n",
       "      <td>34.649000</td>\n",
       "      <td>95.408000</td>\n",
       "      <td>2018.000000</td>\n",
       "      <td>2019.0</td>\n",
       "      <td>28127.000000</td>\n",
       "      <td>30539.000000</td>\n",
       "      <td>30015.000000</td>\n",
       "      <td>35116.000000</td>\n",
       "      <td>35136.000000</td>\n",
       "    </tr>\n",
       "  </tbody>\n",
       "</table>\n",
       "</div>"
      ],
      "text/plain": [
       "       capacity_mw    latitude   longitude  commissioning_year  \\\n",
       "count   907.000000  861.000000  861.000000          527.000000   \n",
       "mean    326.223755   21.197918   77.464907         1997.091082   \n",
       "std     590.085456    6.239612    4.939316           17.082868   \n",
       "min       0.000000    8.168900   68.644700         1927.000000   \n",
       "25%      16.725000   16.773900   74.256200         1988.000000   \n",
       "50%      59.200000   21.780000   76.719500         2001.000000   \n",
       "75%     385.250000   25.512400   79.440800         2012.000000   \n",
       "max    4760.000000   34.649000   95.408000         2018.000000   \n",
       "\n",
       "       year_of_capacity_data  generation_gwh_2014  generation_gwh_2015  \\\n",
       "count                  519.0           398.000000           422.000000   \n",
       "mean                  2019.0          2431.823590          2428.226946   \n",
       "std                      0.0          4026.440035          4194.596959   \n",
       "min                   2019.0             0.000000             0.000000   \n",
       "25%                   2019.0           223.557672           176.381063   \n",
       "50%                   2019.0           801.123775           711.181225   \n",
       "75%                   2019.0          3035.306250          3084.121250   \n",
       "max                   2019.0         28127.000000         30539.000000   \n",
       "\n",
       "       generation_gwh_2016  generation_gwh_2017  generation_gwh_2018  \n",
       "count           434.000000           440.000000           448.000000  \n",
       "mean           2467.936859          2547.759305          2600.804099  \n",
       "std            4162.884308          4196.991169          4314.880456  \n",
       "min               0.000000             0.000000             0.000000  \n",
       "25%             188.285252           177.874930           193.378250  \n",
       "50%             737.205450           817.977250           751.644375  \n",
       "75%            3282.861313          3275.690475          3143.535900  \n",
       "max           30015.000000         35116.000000         35136.000000  "
      ]
     },
     "execution_count": 15,
     "metadata": {},
     "output_type": "execute_result"
    }
   ],
   "source": [
    "df.describe()"
   ]
  },
  {
   "cell_type": "markdown",
   "id": "c89428c6",
   "metadata": {},
   "source": [
    "# Exploratory Data Analysis"
   ]
  },
  {
   "cell_type": "markdown",
   "id": "88d14136",
   "metadata": {},
   "source": [
    "## Univariate Analysis"
   ]
  },
  {
   "cell_type": "code",
   "execution_count": 16,
   "id": "3c331709",
   "metadata": {},
   "outputs": [
    {
     "data": {
      "text/plain": [
       "IND    907\n",
       "Name: country, dtype: int64"
      ]
     },
     "execution_count": 16,
     "metadata": {},
     "output_type": "execute_result"
    }
   ],
   "source": [
    "#country\n",
    "df['country'].value_counts()"
   ]
  },
  {
   "cell_type": "markdown",
   "id": "52524944",
   "metadata": {},
   "source": [
    "we are only dealing with one country so we can drop this column"
   ]
  },
  {
   "cell_type": "code",
   "execution_count": 17,
   "id": "6a18adc7",
   "metadata": {},
   "outputs": [
    {
     "data": {
      "text/plain": [
       "India    907\n",
       "Name: country_long, dtype: int64"
      ]
     },
     "execution_count": 17,
     "metadata": {},
     "output_type": "execute_result"
    }
   ],
   "source": [
    "#country_long\n",
    "df['country_long'].value_counts()"
   ]
  },
  {
   "cell_type": "markdown",
   "id": "8910ef03",
   "metadata": {},
   "source": [
    "we are only dealing with one country so we can drop this column"
   ]
  },
  {
   "cell_type": "code",
   "execution_count": 18,
   "id": "0a4f615b",
   "metadata": {},
   "outputs": [
    {
     "data": {
      "text/plain": [
       "Gorsar Wind Farm                1\n",
       "Pratapgarh Solar Power Plant    1\n",
       "DUGGAVATHI MILL                 1\n",
       "Powerica Jangi Vandjiya         1\n",
       "NAGPUR GMT                      1\n",
       "                               ..\n",
       "LNJP Bahla Basti Wind Farm      1\n",
       "RANGANADI                       1\n",
       "Bhadrada Solar Power Plant      1\n",
       "HAVALGA SUGAR                   1\n",
       "BELLARY DG                      1\n",
       "Name: name, Length: 907, dtype: int64"
      ]
     },
     "execution_count": 18,
     "metadata": {},
     "output_type": "execute_result"
    }
   ],
   "source": [
    "#name\n",
    "df['name'].value_counts()"
   ]
  },
  {
   "cell_type": "markdown",
   "id": "c91851d7",
   "metadata": {},
   "source": [
    "Name will not have any impact on the target columns so it can also be dropped"
   ]
  },
  {
   "cell_type": "code",
   "execution_count": 19,
   "id": "394a1445",
   "metadata": {},
   "outputs": [
    {
     "data": {
      "text/plain": [
       "IND0000115    1\n",
       "WRI1019955    1\n",
       "WRI1026182    1\n",
       "IND0000180    1\n",
       "IND0000070    1\n",
       "             ..\n",
       "WRI1026110    1\n",
       "IND0000253    1\n",
       "IND0000233    1\n",
       "IND0000225    1\n",
       "WRI1019973    1\n",
       "Name: gppd_idnr, Length: 907, dtype: int64"
      ]
     },
     "execution_count": 19,
     "metadata": {},
     "output_type": "execute_result"
    }
   ],
   "source": [
    "#gppd_idnr\n",
    "df['gppd_idnr'].value_counts()"
   ]
  },
  {
   "cell_type": "markdown",
   "id": "387f74d8",
   "metadata": {},
   "source": [
    "this is id column and it will not have any impact on the output"
   ]
  },
  {
   "cell_type": "code",
   "execution_count": 20,
   "id": "41cd6047",
   "metadata": {},
   "outputs": [
    {
     "data": {
      "text/plain": [
       "Coal       258\n",
       "Hydro      251\n",
       "Solar      127\n",
       "Wind       123\n",
       "Gas         69\n",
       "Biomass     50\n",
       "Oil         20\n",
       "Nuclear      9\n",
       "Name: primary_fuel, dtype: int64"
      ]
     },
     "execution_count": 20,
     "metadata": {},
     "output_type": "execute_result"
    }
   ],
   "source": [
    "#primary_fuel\n",
    "df['primary_fuel'].value_counts()"
   ]
  },
  {
   "cell_type": "markdown",
   "id": "c2600055",
   "metadata": {},
   "source": [
    "this is our taget varible and we see there is some data imbalance"
   ]
  },
  {
   "cell_type": "code",
   "execution_count": 22,
   "id": "eb663010",
   "metadata": {},
   "outputs": [
    {
     "data": {
      "text/plain": [
       "<AxesSubplot:xlabel='primary_fuel', ylabel='count'>"
      ]
     },
     "execution_count": 22,
     "metadata": {},
     "output_type": "execute_result"
    },
    {
     "data": {
      "image/png": "[encoded data removed]",
      "text/plain": [
       "<Figure size 432x288 with 1 Axes>"
      ]
     },
     "metadata": {
      "needs_background": "light"
     },
     "output_type": "display_data"
    }
   ],
   "source": [
    "sns.countplot(df['primary_fuel'])"
   ]
  },
  {
   "cell_type": "markdown",
   "id": "a830c74b",
   "metadata": {},
   "source": [
    "Mostly coal is used as primary fuel followeby hydro followed by solar and oil is used least."
   ]
  },
  {
   "cell_type": "code",
   "execution_count": 24,
   "id": "af042ef7",
   "metadata": {},
   "outputs": [
    {
     "data": {
      "text/plain": [
       "Oil             195\n",
       "Gas               2\n",
       "Cogeneration      1\n",
       "Name: other_fuel1, dtype: int64"
      ]
     },
     "execution_count": 24,
     "metadata": {},
     "output_type": "execute_result"
    }
   ],
   "source": [
    "#other_fuel1\n",
    "df['other_fuel1'].value_counts()"
   ]
  },
  {
   "cell_type": "markdown",
   "id": "5f39c0d2",
   "metadata": {},
   "source": [
    "80% of data is missing in this column so we can drop of this column"
   ]
  },
  {
   "cell_type": "code",
   "execution_count": 25,
   "id": "e048de49",
   "metadata": {},
   "outputs": [
    {
     "data": {
      "text/plain": [
       "Sterling Agro Industries ltd.                            4\n",
       "Jk Cement ltd                                            4\n",
       "Acc Acc ltd                                              4\n",
       "Maharashtra State Power Generation Co Ltd (MAHAGENCO)    3\n",
       "SWPPL                                                    3\n",
       "                                                        ..\n",
       "Sangam Spinners ltd                                      1\n",
       "Harsha Engineers Limited                                 1\n",
       "Madhav Solar Private Limited                             1\n",
       "Essel Clean Energy Limited                               1\n",
       "Unity Power Limited                                      1\n",
       "Name: owner, Length: 280, dtype: int64"
      ]
     },
     "execution_count": 25,
     "metadata": {},
     "output_type": "execute_result"
    }
   ],
   "source": [
    "## owner\n",
    "df['owner'].value_counts()"
   ]
  },
  {
   "cell_type": "markdown",
   "id": "cb58da13",
   "metadata": {},
   "source": [
    "70% of data is missing in this column"
   ]
  },
  {
   "cell_type": "code",
   "execution_count": 26,
   "id": "a447e3be",
   "metadata": {},
   "outputs": [
    {
     "data": {
      "text/plain": [
       "Central Electricity Authority                519\n",
       "CDM                                          124\n",
       "Lancosola                                     10\n",
       "National Renewable Energy Laboratory           8\n",
       "National Thermal Power Corporation (NTPC)      6\n",
       "                                            ... \n",
       "Bannari Sugars ltd                             1\n",
       "Coal Mi ICM                                    1\n",
       "Sepset Constructio te                          1\n",
       "Power Private edM/Pdf                          1\n",
       "Varam Pvt ltd                                  1\n",
       "Name: source, Length: 191, dtype: int64"
      ]
     },
     "execution_count": 26,
     "metadata": {},
     "output_type": "execute_result"
    }
   ],
   "source": [
    "##source\n",
    "df['source'].value_counts()"
   ]
  },
  {
   "cell_type": "code",
   "execution_count": 28,
   "id": "cf9b3e72",
   "metadata": {},
   "outputs": [
    {
     "data": {
      "text/plain": [
       "0      http://www.nrel.gov/csp/solarpaces/project_det...\n",
       "1                        http://www.ultratechcement.com/\n",
       "2      https://cdm.unfccc.int/Projects/DB/DNV-CUK1328...\n",
       "3                                 http://www.cea.nic.in/\n",
       "4                                 http://www.cea.nic.in/\n",
       "                             ...                        \n",
       "902                               http://www.cea.nic.in/\n",
       "903                            http://karnatakapower.com\n",
       "904    https://cdm.unfccc.int/Projects/DB/TUEV-RHEIN1...\n",
       "905                             http://www.hzlindia.com/\n",
       "906    https://cdm.unfccc.int/Projects/DB/RWTUV134503...\n",
       "Name: url, Length: 907, dtype: object"
      ]
     },
     "execution_count": 28,
     "metadata": {},
     "output_type": "execute_result"
    }
   ],
   "source": [
    "##url\n",
    "df['url']"
   ]
  },
  {
   "cell_type": "markdown",
   "id": "e0ec5c2c",
   "metadata": {},
   "source": [
    "url will not impact our label it can be removed"
   ]
  },
  {
   "cell_type": "code",
   "execution_count": 30,
   "id": "726635f4",
   "metadata": {},
   "outputs": [
    {
     "data": {
      "text/plain": [
       "WRI                                     765\n",
       "Industry About                          119\n",
       "National Renewable Energy Laboratory      4\n",
       "Name: geolocation_source, dtype: int64"
      ]
     },
     "execution_count": 30,
     "metadata": {},
     "output_type": "execute_result"
    }
   ],
   "source": [
    "## geolocation_source\n",
    "df['geolocation_source'].value_counts()"
   ]
  },
  {
   "cell_type": "markdown",
   "id": "00afaa4e",
   "metadata": {},
   "source": [
    "there are few missing values in this it can be easily replaced with 'WRI'"
   ]
  },
  {
   "cell_type": "code",
   "execution_count": 32,
   "id": "ab7988e1",
   "metadata": {},
   "outputs": [
    {
     "data": {
      "text/html": [
       "<div>\n",
       "<style scoped>\n",
       "    .dataframe tbody tr th:only-of-type {\n",
       "        vertical-align: middle;\n",
       "    }\n",
       "\n",
       "    .dataframe tbody tr th {\n",
       "        vertical-align: top;\n",
       "    }\n",
       "\n",
       "    .dataframe thead th {\n",
       "        text-align: right;\n",
       "    }\n",
       "</style>\n",
       "<table border=\"1\" class=\"dataframe\">\n",
       "  <thead>\n",
       "    <tr style=\"text-align: right;\">\n",
       "      <th>primary_fuel</th>\n",
       "      <th>Biomass</th>\n",
       "      <th>Coal</th>\n",
       "      <th>Gas</th>\n",
       "      <th>Hydro</th>\n",
       "      <th>Nuclear</th>\n",
       "      <th>Oil</th>\n",
       "      <th>Solar</th>\n",
       "      <th>Wind</th>\n",
       "    </tr>\n",
       "    <tr>\n",
       "      <th>geolocation_source</th>\n",
       "      <th></th>\n",
       "      <th></th>\n",
       "      <th></th>\n",
       "      <th></th>\n",
       "      <th></th>\n",
       "      <th></th>\n",
       "      <th></th>\n",
       "      <th></th>\n",
       "    </tr>\n",
       "  </thead>\n",
       "  <tbody>\n",
       "    <tr>\n",
       "      <th>Industry About</th>\n",
       "      <td>0</td>\n",
       "      <td>0</td>\n",
       "      <td>0</td>\n",
       "      <td>0</td>\n",
       "      <td>0</td>\n",
       "      <td>0</td>\n",
       "      <td>119</td>\n",
       "      <td>0</td>\n",
       "    </tr>\n",
       "    <tr>\n",
       "      <th>National Renewable Energy Laboratory</th>\n",
       "      <td>0</td>\n",
       "      <td>0</td>\n",
       "      <td>0</td>\n",
       "      <td>0</td>\n",
       "      <td>0</td>\n",
       "      <td>0</td>\n",
       "      <td>4</td>\n",
       "      <td>0</td>\n",
       "    </tr>\n",
       "    <tr>\n",
       "      <th>WRI</th>\n",
       "      <td>50</td>\n",
       "      <td>258</td>\n",
       "      <td>69</td>\n",
       "      <td>251</td>\n",
       "      <td>9</td>\n",
       "      <td>20</td>\n",
       "      <td>0</td>\n",
       "      <td>108</td>\n",
       "    </tr>\n",
       "  </tbody>\n",
       "</table>\n",
       "</div>"
      ],
      "text/plain": [
       "primary_fuel                          Biomass  Coal  Gas  Hydro  Nuclear  Oil  \\\n",
       "geolocation_source                                                              \n",
       "Industry About                              0     0    0      0        0    0   \n",
       "National Renewable Energy Laboratory        0     0    0      0        0    0   \n",
       "WRI                                        50   258   69    251        9   20   \n",
       "\n",
       "primary_fuel                          Solar  Wind  \n",
       "geolocation_source                                 \n",
       "Industry About                          119     0  \n",
       "National Renewable Energy Laboratory      4     0  \n",
       "WRI                                       0   108  "
      ]
     },
     "execution_count": 32,
     "metadata": {},
     "output_type": "execute_result"
    }
   ],
   "source": [
    "pd.crosstab(df['geolocation_source'],df['primary_fuel'])"
   ]
  },
  {
   "cell_type": "code",
   "execution_count": 36,
   "id": "91e79f42",
   "metadata": {},
   "outputs": [
    {
     "data": {
      "text/plain": [
       "<AxesSubplot:xlabel='geolocation_source', ylabel='count'>"
      ]
     },
     "execution_count": 36,
     "metadata": {},
     "output_type": "execute_result"
    },
    {
     "data": {
      "image/png": "[encoded data removed]",
      "text/plain": [
       "<Figure size 1080x504 with 1 Axes>"
      ]
     },
     "metadata": {
      "needs_background": "light"
     },
     "output_type": "display_data"
    }
   ],
   "source": [
    "plt.figure(figsize=(15,7))\n",
    "sns.countplot(df['geolocation_source'],hue=df['primary_fuel'])"
   ]
  },
  {
   "cell_type": "code",
   "execution_count": null,
   "id": "187cb594",
   "metadata": {},
   "outputs": [],
   "source": [
    "86% of geolocation source is WRI,so this column will not have much impact on the labe;"
   ]
  },
  {
   "cell_type": "code",
   "execution_count": 37,
   "id": "9fb5dbac",
   "metadata": {},
   "outputs": [
    {
     "data": {
      "text/plain": [
       "Central Electricity Authority    449\n",
       "Name: generation_data_source, dtype: int64"
      ]
     },
     "execution_count": 37,
     "metadata": {},
     "output_type": "execute_result"
    }
   ],
   "source": [
    "# generation_data_source\n",
    "df['generation_data_source'].value_counts()"
   ]
  },
  {
   "cell_type": "markdown",
   "id": "e30648db",
   "metadata": {},
   "source": [
    "there is only one value in this so it cant impact the target,it can be dropped off"
   ]
  },
  {
   "cell_type": "code",
   "execution_count": 70,
   "id": "93eca663",
   "metadata": {},
   "outputs": [
    {
     "data": {
      "text/plain": [
       "2019.0    519\n",
       "Name: year_of_capacity_data, dtype: int64"
      ]
     },
     "execution_count": 70,
     "metadata": {},
     "output_type": "execute_result"
    }
   ],
   "source": [
    "# generation_data_source\n",
    "df['year_of_capacity_data'].value_counts()"
   ]
  },
  {
   "cell_type": "code",
   "execution_count": null,
   "id": "aa354a9f",
   "metadata": {},
   "outputs": [],
   "source": [
    "So we can see year_of_capacity_data has only one type of value.So it can be dropped as it is not of much use."
   ]
  },
  {
   "cell_type": "code",
   "execution_count": 38,
   "id": "f29ba022",
   "metadata": {},
   "outputs": [
    {
     "data": {
      "text/plain": [
       "<AxesSubplot:xlabel='capacity_mw', ylabel='Density'>"
      ]
     },
     "execution_count": 38,
     "metadata": {},
     "output_type": "execute_result"
    },
    {
     "data": {
      "image/png": "[encoded data removed]",
      "text/plain": [
       "<Figure size 432x288 with 1 Axes>"
      ]
     },
     "metadata": {
      "needs_background": "light"
     },
     "output_type": "display_data"
    }
   ],
   "source": [
    "#capacity_mw\n",
    "sns.distplot(df['capacity_mw'])"
   ]
  },
  {
   "cell_type": "markdown",
   "id": "ad2b955a",
   "metadata": {},
   "source": [
    "this skewed right"
   ]
  },
  {
   "cell_type": "code",
   "execution_count": 42,
   "id": "c43bafa5",
   "metadata": {},
   "outputs": [
    {
     "data": {
      "image/png": "[encoded data removed]",
      "text/plain": [
       "<Figure size 1080x504 with 1 Axes>"
      ]
     },
     "metadata": {
      "needs_background": "light"
     },
     "output_type": "display_data"
    }
   ],
   "source": [
    "#commissioning_year\n",
    "plt.figure(figsize=(15,7))\n",
    "sns.countplot(df[\"commissioning_year\"])\n",
    "plt.xticks(rotation=90)\n",
    "plt.show()"
   ]
  },
  {
   "cell_type": "code",
   "execution_count": 43,
   "id": "ffd13fb6",
   "metadata": {},
   "outputs": [
    {
     "data": {
      "text/plain": [
       "2015.0    28\n",
       "2013.0    25\n",
       "2012.0    23\n",
       "2016.0    19\n",
       "2010.0    18\n",
       "          ..\n",
       "1958.0     1\n",
       "1949.0     1\n",
       "1954.0     1\n",
       "1956.0     1\n",
       "1927.0     1\n",
       "Name: commissioning_year, Length: 73, dtype: int64"
      ]
     },
     "execution_count": 43,
     "metadata": {},
     "output_type": "execute_result"
    }
   ],
   "source": [
    "df['commissioning_year'].value_counts()"
   ]
  },
  {
   "cell_type": "markdown",
   "id": "54e91c97",
   "metadata": {},
   "source": [
    "there are so many missing values in this column"
   ]
  },
  {
   "cell_type": "code",
   "execution_count": 45,
   "id": "f4839663",
   "metadata": {},
   "outputs": [
    {
     "name": "stdout",
     "output_type": "stream",
     "text": [
      "<class 'pandas.core.frame.DataFrame'>\n",
      "RangeIndex: 907 entries, 0 to 906\n",
      "Data columns (total 21 columns):\n",
      " #   Column                  Non-Null Count  Dtype  \n",
      "---  ------                  --------------  -----  \n",
      " 0   country                 907 non-null    object \n",
      " 1   country_long            907 non-null    object \n",
      " 2   name                    907 non-null    object \n",
      " 3   gppd_idnr               907 non-null    object \n",
      " 4   capacity_mw             907 non-null    float64\n",
      " 5   latitude                861 non-null    float64\n",
      " 6   longitude               861 non-null    float64\n",
      " 7   primary_fuel            907 non-null    object \n",
      " 8   other_fuel1             198 non-null    object \n",
      " 9   commissioning_year      527 non-null    float64\n",
      " 10  owner                   342 non-null    object \n",
      " 11  source                  907 non-null    object \n",
      " 12  url                     907 non-null    object \n",
      " 13  geolocation_source      888 non-null    object \n",
      " 14  year_of_capacity_data   519 non-null    float64\n",
      " 15  generation_gwh_2014     398 non-null    float64\n",
      " 16  generation_gwh_2015     422 non-null    float64\n",
      " 17  generation_gwh_2016     434 non-null    float64\n",
      " 18  generation_gwh_2017     440 non-null    float64\n",
      " 19  generation_gwh_2018     448 non-null    float64\n",
      " 20  generation_data_source  449 non-null    object \n",
      "dtypes: float64(10), object(11)\n",
      "memory usage: 148.9+ KB\n"
     ]
    }
   ],
   "source": [
    "df.info()"
   ]
  },
  {
   "cell_type": "markdown",
   "id": "5d9e8d68",
   "metadata": {},
   "source": [
    "# Bivariate Analysis"
   ]
  },
  {
   "cell_type": "code",
   "execution_count": 46,
   "id": "0d383266",
   "metadata": {},
   "outputs": [
    {
     "data": {
      "text/plain": [
       "<AxesSubplot:xlabel='commissioning_year', ylabel='capacity_mw'>"
      ]
     },
     "execution_count": 46,
     "metadata": {},
     "output_type": "execute_result"
    },
    {
     "data": {
      "image/png": "[encoded data removed]",
      "text/plain": [
       "<Figure size 432x288 with 1 Axes>"
      ]
     },
     "metadata": {
      "needs_background": "light"
     },
     "output_type": "display_data"
    }
   ],
   "source": [
    "sns.scatterplot(x = \"commissioning_year\", y = \"capacity_mw\", data = df)"
   ]
  },
  {
   "cell_type": "markdown",
   "id": "c90ddbff",
   "metadata": {},
   "source": [
    "In the above scatter plot we can see that the electricity generating capacity measured in mega watts was pretty low in the olden times as compared to recent years"
   ]
  },
  {
   "cell_type": "code",
   "execution_count": 47,
   "id": "9907ba1b",
   "metadata": {},
   "outputs": [
    {
     "data": {
      "text/plain": [
       "<AxesSubplot:xlabel='latitude', ylabel='capacity_mw'>"
      ]
     },
     "execution_count": 47,
     "metadata": {},
     "output_type": "execute_result"
    },
    {
     "data": {
      "image/png": "[encoded data removed]",
      "text/plain": [
       "<Figure size 432x288 with 1 Axes>"
      ]
     },
     "metadata": {
      "needs_background": "light"
     },
     "output_type": "display_data"
    }
   ],
   "source": [
    "sns.scatterplot(x = \"latitude\", y = \"capacity_mw\", data = df)"
   ]
  },
  {
   "cell_type": "code",
   "execution_count": 48,
   "id": "7548d6a3",
   "metadata": {},
   "outputs": [
    {
     "data": {
      "text/plain": [
       "<AxesSubplot:xlabel='longitude', ylabel='capacity_mw'>"
      ]
     },
     "execution_count": 48,
     "metadata": {},
     "output_type": "execute_result"
    },
    {
     "data": {
      "image/png": "[encoded data removed]",
      "text/plain": [
       "<Figure size 432x288 with 1 Axes>"
      ]
     },
     "metadata": {
      "needs_background": "light"
     },
     "output_type": "display_data"
    }
   ],
   "source": [
    "sns.scatterplot(x = \"longitude\", y = \"capacity_mw\", data = df)"
   ]
  },
  {
   "cell_type": "code",
   "execution_count": 51,
   "id": "22a298a1",
   "metadata": {},
   "outputs": [
    {
     "data": {
      "text/plain": [
       "<seaborn.axisgrid.FacetGrid at 0x24b1c737130>"
      ]
     },
     "execution_count": 51,
     "metadata": {},
     "output_type": "execute_result"
    },
    {
     "data": {
      "image/png": "[encoded data removed]",
      "text/plain": [
       "<Figure size 360x360 with 1 Axes>"
      ]
     },
     "metadata": {
      "needs_background": "light"
     },
     "output_type": "display_data"
    }
   ],
   "source": [
    "sns.catplot(x = \"primary_fuel\", y = \"capacity_mw\", data = df)"
   ]
  },
  {
   "cell_type": "markdown",
   "id": "5c60b14c",
   "metadata": {},
   "source": [
    "In the above categorical plot we can see that coal is the highest contender when it comes to generating electricity and biomass is used the least."
   ]
  },
  {
   "cell_type": "code",
   "execution_count": 52,
   "id": "a16da823",
   "metadata": {},
   "outputs": [
    {
     "data": {
      "text/plain": [
       "<seaborn.axisgrid.FacetGrid at 0x24b1a87f3d0>"
      ]
     },
     "execution_count": 52,
     "metadata": {},
     "output_type": "execute_result"
    },
    {
     "data": {
      "image/png": "[encoded data removed]",
      "text/plain": [
       "<Figure size 360x360 with 1 Axes>"
      ]
     },
     "metadata": {
      "needs_background": "light"
     },
     "output_type": "display_data"
    }
   ],
   "source": [
    "sns.catplot(x = \"primary_fuel\", y = \"latitude\", data = df)"
   ]
  },
  {
   "cell_type": "markdown",
   "id": "9307d6c2",
   "metadata": {},
   "source": [
    "In the above categorical plot we can see that hydro fuel type is distributed across all the latitude values considering the water bodies that help in generating electricity at a power plant."
   ]
  },
  {
   "cell_type": "code",
   "execution_count": 53,
   "id": "7e7026fb",
   "metadata": {},
   "outputs": [
    {
     "data": {
      "text/plain": [
       "<seaborn.axisgrid.FacetGrid at 0x24b1c74e550>"
      ]
     },
     "execution_count": 53,
     "metadata": {},
     "output_type": "execute_result"
    },
    {
     "data": {
      "image/png": "[encoded data removed]",
      "text/plain": [
       "<Figure size 360x360 with 1 Axes>"
      ]
     },
     "metadata": {
      "needs_background": "light"
     },
     "output_type": "display_data"
    }
   ],
   "source": [
    "sns.catplot(x = \"primary_fuel\", y = \"longitude\", data = df)"
   ]
  },
  {
   "cell_type": "markdown",
   "id": "89ac0a2f",
   "metadata": {},
   "source": [
    " land lock areas rely on coal for electricity generation and costal area rely mostly on the hydro fuel type"
   ]
  },
  {
   "cell_type": "markdown",
   "id": "4bd9bb97",
   "metadata": {},
   "source": [
    "# Data Preprocessing"
   ]
  },
  {
   "cell_type": "code",
   "execution_count": 79,
   "id": "f680ab34",
   "metadata": {},
   "outputs": [
    {
     "data": {
      "text/plain": [
       "Index(['country', 'country_long', 'name', 'gppd_idnr', 'capacity_mw',\n",
       "       'latitude', 'longitude', 'primary_fuel', 'other_fuel1',\n",
       "       'commissioning_year', 'owner', 'source', 'url', 'geolocation_source',\n",
       "       'year_of_capacity_data', 'generation_gwh_2014', 'generation_gwh_2015',\n",
       "       'generation_gwh_2016', 'generation_gwh_2017', 'generation_gwh_2018',\n",
       "       'generation_data_source'],\n",
       "      dtype='object')"
      ]
     },
     "execution_count": 79,
     "metadata": {},
     "output_type": "execute_result"
    }
   ],
   "source": [
    "df.columns"
   ]
  },
  {
   "cell_type": "code",
   "execution_count": 65,
   "id": "1c17066c",
   "metadata": {},
   "outputs": [
    {
     "data": {
      "text/plain": [
       "(907, 21)"
      ]
     },
     "execution_count": 65,
     "metadata": {},
     "output_type": "execute_result"
    }
   ],
   "source": [
    "df.shape"
   ]
  },
  {
   "cell_type": "code",
   "execution_count": 66,
   "id": "78eafc8c",
   "metadata": {},
   "outputs": [
    {
     "name": "stdout",
     "output_type": "stream",
     "text": [
      "<class 'pandas.core.frame.DataFrame'>\n",
      "RangeIndex: 907 entries, 0 to 906\n",
      "Data columns (total 21 columns):\n",
      " #   Column                  Non-Null Count  Dtype  \n",
      "---  ------                  --------------  -----  \n",
      " 0   country                 907 non-null    object \n",
      " 1   country_long            907 non-null    object \n",
      " 2   name                    907 non-null    object \n",
      " 3   gppd_idnr               907 non-null    object \n",
      " 4   capacity_mw             907 non-null    float64\n",
      " 5   latitude                861 non-null    float64\n",
      " 6   longitude               861 non-null    float64\n",
      " 7   primary_fuel            907 non-null    object \n",
      " 8   other_fuel1             198 non-null    object \n",
      " 9   commissioning_year      527 non-null    float64\n",
      " 10  owner                   342 non-null    object \n",
      " 11  source                  907 non-null    object \n",
      " 12  url                     907 non-null    object \n",
      " 13  geolocation_source      888 non-null    object \n",
      " 14  year_of_capacity_data   519 non-null    float64\n",
      " 15  generation_gwh_2014     398 non-null    float64\n",
      " 16  generation_gwh_2015     422 non-null    float64\n",
      " 17  generation_gwh_2016     434 non-null    float64\n",
      " 18  generation_gwh_2017     440 non-null    float64\n",
      " 19  generation_gwh_2018     448 non-null    float64\n",
      " 20  generation_data_source  449 non-null    object \n",
      "dtypes: float64(10), object(11)\n",
      "memory usage: 148.9+ KB\n"
     ]
    }
   ],
   "source": [
    "df.info()"
   ]
  },
  {
   "cell_type": "markdown",
   "id": "b4fac142",
   "metadata": {},
   "source": [
    "We can remove columns with too many missing values and also columns that will no have any impact on the target"
   ]
  },
  {
   "cell_type": "code",
   "execution_count": 80,
   "id": "b88cc632",
   "metadata": {},
   "outputs": [],
   "source": [
    "df.drop(['other_fuel1','owner','country','country_long','name','gppd_idnr','url','generation_gwh_2014','generation_gwh_2015',\n",
    "         'generation_gwh_2016','generation_gwh_2017','generation_gwh_2018','generation_data_source'],axis=1,inplace=True)"
   ]
  },
  {
   "cell_type": "markdown",
   "id": "4f6ec1b5",
   "metadata": {},
   "source": [
    "Have dropped all the column that had more than 50% of missing data since it made no sense to treat such a huge chunk of missing value and ultimately make our model biased towards those missing value treated data."
   ]
  },
  {
   "cell_type": "code",
   "execution_count": 81,
   "id": "92b44324",
   "metadata": {},
   "outputs": [],
   "source": [
    "df.drop('year_of_capacity_data',axis=1,inplace=True)"
   ]
  },
  {
   "cell_type": "markdown",
   "id": "9217582f",
   "metadata": {},
   "source": [
    "So we can see year_of_capacity_data has only one type of value,so it can be dropped"
   ]
  },
  {
   "cell_type": "code",
   "execution_count": 82,
   "id": "358173c6",
   "metadata": {},
   "outputs": [
    {
     "data": {
      "text/plain": [
       "(907, 7)"
      ]
     },
     "execution_count": 82,
     "metadata": {},
     "output_type": "execute_result"
    }
   ],
   "source": [
    "df.shape"
   ]
  },
  {
   "cell_type": "code",
   "execution_count": 83,
   "id": "bbc37ea7",
   "metadata": {},
   "outputs": [
    {
     "data": {
      "text/plain": [
       "Index(['capacity_mw', 'latitude', 'longitude', 'primary_fuel',\n",
       "       'commissioning_year', 'source', 'geolocation_source'],\n",
       "      dtype='object')"
      ]
     },
     "execution_count": 83,
     "metadata": {},
     "output_type": "execute_result"
    }
   ],
   "source": [
    "df.columns"
   ]
  },
  {
   "cell_type": "code",
   "execution_count": 85,
   "id": "c948753c",
   "metadata": {},
   "outputs": [],
   "source": [
    "# filling the missing values\n",
    "df[\"latitude\"].fillna(df[\"latitude\"].mean(),inplace=True)\n",
    "df[\"longitude\"].fillna(df[\"longitude\"].mean(),inplace=True)\n",
    "df[\"commissioning_year\"].fillna(df[\"commissioning_year\"].mode()[0],inplace=True)\n",
    "df[\"geolocation_source\"].fillna(df[\"geolocation_source\"].mode()[0],inplace=True)"
   ]
  },
  {
   "cell_type": "code",
   "execution_count": 87,
   "id": "9d297ef6",
   "metadata": {},
   "outputs": [
    {
     "name": "stdout",
     "output_type": "stream",
     "text": [
      "<class 'pandas.core.frame.DataFrame'>\n",
      "RangeIndex: 907 entries, 0 to 906\n",
      "Data columns (total 7 columns):\n",
      " #   Column              Non-Null Count  Dtype  \n",
      "---  ------              --------------  -----  \n",
      " 0   capacity_mw         907 non-null    float64\n",
      " 1   latitude            907 non-null    float64\n",
      " 2   longitude           907 non-null    float64\n",
      " 3   primary_fuel        907 non-null    object \n",
      " 4   commissioning_year  907 non-null    float64\n",
      " 5   source              907 non-null    object \n",
      " 6   geolocation_source  907 non-null    object \n",
      "dtypes: float64(4), object(3)\n",
      "memory usage: 49.7+ KB\n"
     ]
    }
   ],
   "source": [
    "df.info()"
   ]
  },
  {
   "cell_type": "code",
   "execution_count": 86,
   "id": "140f4906",
   "metadata": {},
   "outputs": [
    {
     "data": {
      "text/plain": [
       "capacity_mw           0\n",
       "latitude              0\n",
       "longitude             0\n",
       "primary_fuel          0\n",
       "commissioning_year    0\n",
       "source                0\n",
       "geolocation_source    0\n",
       "dtype: int64"
      ]
     },
     "execution_count": 86,
     "metadata": {},
     "output_type": "execute_result"
    }
   ],
   "source": [
    "df.isnull().sum()"
   ]
  },
  {
   "cell_type": "code",
   "execution_count": 90,
   "id": "f23ea66c",
   "metadata": {},
   "outputs": [
    {
     "data": {
      "text/html": [
       "<div>\n",
       "<style scoped>\n",
       "    .dataframe tbody tr th:only-of-type {\n",
       "        vertical-align: middle;\n",
       "    }\n",
       "\n",
       "    .dataframe tbody tr th {\n",
       "        vertical-align: top;\n",
       "    }\n",
       "\n",
       "    .dataframe thead th {\n",
       "        text-align: right;\n",
       "    }\n",
       "</style>\n",
       "<table border=\"1\" class=\"dataframe\">\n",
       "  <thead>\n",
       "    <tr style=\"text-align: right;\">\n",
       "      <th></th>\n",
       "      <th>capacity_mw</th>\n",
       "      <th>latitude</th>\n",
       "      <th>longitude</th>\n",
       "      <th>primary_fuel</th>\n",
       "      <th>commissioning_year</th>\n",
       "      <th>source</th>\n",
       "      <th>geolocation_source</th>\n",
       "    </tr>\n",
       "  </thead>\n",
       "  <tbody>\n",
       "    <tr>\n",
       "      <th>0</th>\n",
       "      <td>2.5</td>\n",
       "      <td>28.1839</td>\n",
       "      <td>73.2407</td>\n",
       "      <td>Solar</td>\n",
       "      <td>2011.0</td>\n",
       "      <td>National Renewable Energy Laboratory</td>\n",
       "      <td>National Renewable Energy Laboratory</td>\n",
       "    </tr>\n",
       "    <tr>\n",
       "      <th>1</th>\n",
       "      <td>98.0</td>\n",
       "      <td>24.7663</td>\n",
       "      <td>74.6090</td>\n",
       "      <td>Coal</td>\n",
       "      <td>2015.0</td>\n",
       "      <td>Ultratech Cement ltd</td>\n",
       "      <td>WRI</td>\n",
       "    </tr>\n",
       "    <tr>\n",
       "      <th>2</th>\n",
       "      <td>39.2</td>\n",
       "      <td>21.9038</td>\n",
       "      <td>69.3732</td>\n",
       "      <td>Wind</td>\n",
       "      <td>2015.0</td>\n",
       "      <td>CDM</td>\n",
       "      <td>WRI</td>\n",
       "    </tr>\n",
       "    <tr>\n",
       "      <th>3</th>\n",
       "      <td>135.0</td>\n",
       "      <td>23.8712</td>\n",
       "      <td>91.3602</td>\n",
       "      <td>Gas</td>\n",
       "      <td>2004.0</td>\n",
       "      <td>Central Electricity Authority</td>\n",
       "      <td>WRI</td>\n",
       "    </tr>\n",
       "    <tr>\n",
       "      <th>4</th>\n",
       "      <td>1800.0</td>\n",
       "      <td>21.9603</td>\n",
       "      <td>82.4091</td>\n",
       "      <td>Coal</td>\n",
       "      <td>2015.0</td>\n",
       "      <td>Central Electricity Authority</td>\n",
       "      <td>WRI</td>\n",
       "    </tr>\n",
       "  </tbody>\n",
       "</table>\n",
       "</div>"
      ],
      "text/plain": [
       "   capacity_mw  latitude  longitude primary_fuel  commissioning_year  \\\n",
       "0          2.5   28.1839    73.2407        Solar              2011.0   \n",
       "1         98.0   24.7663    74.6090         Coal              2015.0   \n",
       "2         39.2   21.9038    69.3732         Wind              2015.0   \n",
       "3        135.0   23.8712    91.3602          Gas              2004.0   \n",
       "4       1800.0   21.9603    82.4091         Coal              2015.0   \n",
       "\n",
       "                                 source                    geolocation_source  \n",
       "0  National Renewable Energy Laboratory  National Renewable Energy Laboratory  \n",
       "1                  Ultratech Cement ltd                                   WRI  \n",
       "2                                   CDM                                   WRI  \n",
       "3         Central Electricity Authority                                   WRI  \n",
       "4         Central Electricity Authority                                   WRI  "
      ]
     },
     "execution_count": 90,
     "metadata": {},
     "output_type": "execute_result"
    }
   ],
   "source": [
    "df.head()"
   ]
  },
  {
   "cell_type": "markdown",
   "id": "b95934ba",
   "metadata": {},
   "source": [
    "# Checking Correaltion"
   ]
  },
  {
   "cell_type": "code",
   "execution_count": 88,
   "id": "3afa9837",
   "metadata": {},
   "outputs": [
    {
     "data": {
      "text/html": [
       "<div>\n",
       "<style scoped>\n",
       "    .dataframe tbody tr th:only-of-type {\n",
       "        vertical-align: middle;\n",
       "    }\n",
       "\n",
       "    .dataframe tbody tr th {\n",
       "        vertical-align: top;\n",
       "    }\n",
       "\n",
       "    .dataframe thead th {\n",
       "        text-align: right;\n",
       "    }\n",
       "</style>\n",
       "<table border=\"1\" class=\"dataframe\">\n",
       "  <thead>\n",
       "    <tr style=\"text-align: right;\">\n",
       "      <th></th>\n",
       "      <th>capacity_mw</th>\n",
       "      <th>latitude</th>\n",
       "      <th>longitude</th>\n",
       "      <th>commissioning_year</th>\n",
       "    </tr>\n",
       "  </thead>\n",
       "  <tbody>\n",
       "    <tr>\n",
       "      <th>capacity_mw</th>\n",
       "      <td>1.000000</td>\n",
       "      <td>0.050984</td>\n",
       "      <td>0.195882</td>\n",
       "      <td>-0.004072</td>\n",
       "    </tr>\n",
       "    <tr>\n",
       "      <th>latitude</th>\n",
       "      <td>0.050984</td>\n",
       "      <td>1.000000</td>\n",
       "      <td>0.036362</td>\n",
       "      <td>0.034519</td>\n",
       "    </tr>\n",
       "    <tr>\n",
       "      <th>longitude</th>\n",
       "      <td>0.195882</td>\n",
       "      <td>0.036362</td>\n",
       "      <td>1.000000</td>\n",
       "      <td>-0.159025</td>\n",
       "    </tr>\n",
       "    <tr>\n",
       "      <th>commissioning_year</th>\n",
       "      <td>-0.004072</td>\n",
       "      <td>0.034519</td>\n",
       "      <td>-0.159025</td>\n",
       "      <td>1.000000</td>\n",
       "    </tr>\n",
       "  </tbody>\n",
       "</table>\n",
       "</div>"
      ],
      "text/plain": [
       "                    capacity_mw  latitude  longitude  commissioning_year\n",
       "capacity_mw            1.000000  0.050984   0.195882           -0.004072\n",
       "latitude               0.050984  1.000000   0.036362            0.034519\n",
       "longitude              0.195882  0.036362   1.000000           -0.159025\n",
       "commissioning_year    -0.004072  0.034519  -0.159025            1.000000"
      ]
     },
     "execution_count": 88,
     "metadata": {},
     "output_type": "execute_result"
    }
   ],
   "source": [
    "df.corr()"
   ]
  },
  {
   "cell_type": "code",
   "execution_count": 89,
   "id": "123ca3de",
   "metadata": {},
   "outputs": [
    {
     "data": {
      "text/plain": [
       "<AxesSubplot:>"
      ]
     },
     "execution_count": 89,
     "metadata": {},
     "output_type": "execute_result"
    },
    {
     "data": {
      "image/png": "[encoded data removed]",
      "text/plain": [
       "<Figure size 720x504 with 2 Axes>"
      ]
     },
     "metadata": {
      "needs_background": "light"
     },
     "output_type": "display_data"
    }
   ],
   "source": [
    "plt.figure(figsize=(10,7))\n",
    "sns.heatmap(df.corr(),annot=True,cmap='RdYlGn')"
   ]
  },
  {
   "cell_type": "markdown",
   "id": "40fbb2ce",
   "metadata": {},
   "source": [
    "longitude has positive correlation of 0.2 with target(capacity_mw)"
   ]
  },
  {
   "cell_type": "markdown",
   "id": "811d7407",
   "metadata": {},
   "source": [
    "# Checking Outliers"
   ]
  },
  {
   "cell_type": "code",
   "execution_count": 91,
   "id": "5b05175f",
   "metadata": {},
   "outputs": [
    {
     "data": {
      "text/plain": [
       "<AxesSubplot:xlabel='capacity_mw'>"
      ]
     },
     "execution_count": 91,
     "metadata": {},
     "output_type": "execute_result"
    },
    {
     "data": {
      "image/png": "[encoded data removed]",
      "text/plain": [
       "<Figure size 432x288 with 1 Axes>"
      ]
     },
     "metadata": {
      "needs_background": "light"
     },
     "output_type": "display_data"
    }
   ],
   "source": [
    "sns.boxplot(df['capacity_mw'])"
   ]
  },
  {
   "cell_type": "code",
   "execution_count": 92,
   "id": "7b2c9197",
   "metadata": {},
   "outputs": [
    {
     "data": {
      "text/plain": [
       "<AxesSubplot:xlabel='latitude'>"
      ]
     },
     "execution_count": 92,
     "metadata": {},
     "output_type": "execute_result"
    },
    {
     "data": {
      "image/png": "[encoded data removed]",
      "text/plain": [
       "<Figure size 432x288 with 1 Axes>"
      ]
     },
     "metadata": {
      "needs_background": "light"
     },
     "output_type": "display_data"
    }
   ],
   "source": [
    "sns.boxplot(df['latitude'])"
   ]
  },
  {
   "cell_type": "code",
   "execution_count": 93,
   "id": "424d7cbe",
   "metadata": {},
   "outputs": [
    {
     "data": {
      "text/plain": [
       "<AxesSubplot:xlabel='longitude'>"
      ]
     },
     "execution_count": 93,
     "metadata": {},
     "output_type": "execute_result"
    },
    {
     "data": {
      "image/png": "[encoded data removed]",
      "text/plain": [
       "<Figure size 432x288 with 1 Axes>"
      ]
     },
     "metadata": {
      "needs_background": "light"
     },
     "output_type": "display_data"
    }
   ],
   "source": [
    "sns.boxplot(df['longitude'])"
   ]
  },
  {
   "cell_type": "markdown",
   "id": "16f5952b",
   "metadata": {},
   "source": [
    "we see that there are outliers present in the column and we need to properly handle them"
   ]
  },
  {
   "cell_type": "code",
   "execution_count": 94,
   "id": "23f4a7ce",
   "metadata": {},
   "outputs": [
    {
     "data": {
      "text/plain": [
       "<AxesSubplot:xlabel='commissioning_year'>"
      ]
     },
     "execution_count": 94,
     "metadata": {},
     "output_type": "execute_result"
    },
    {
     "data": {
      "image/png": "[encoded data removed]",
      "text/plain": [
       "<Figure size 432x288 with 1 Axes>"
      ]
     },
     "metadata": {
      "needs_background": "light"
     },
     "output_type": "display_data"
    }
   ],
   "source": [
    "sns.boxplot(df['commissioning_year'])"
   ]
  },
  {
   "cell_type": "markdown",
   "id": "66975f17",
   "metadata": {},
   "source": [
    "we see that there are outliers present in the column and we need to properly handle them"
   ]
  },
  {
   "cell_type": "markdown",
   "id": "4ddca6bf",
   "metadata": {},
   "source": [
    "# Using Z Score to remove outliers"
   ]
  },
  {
   "cell_type": "code",
   "execution_count": 96,
   "id": "2b8b62c1",
   "metadata": {},
   "outputs": [],
   "source": [
    "df_columns=df[['capacity_mw','longitude','commissioning_year']]\n",
    "z=np.abs(zscore(df_columns))\n"
   ]
  },
  {
   "cell_type": "code",
   "execution_count": 97,
   "id": "70116cdd",
   "metadata": {},
   "outputs": [
    {
     "data": {
      "text/html": [
       "<div>\n",
       "<style scoped>\n",
       "    .dataframe tbody tr th:only-of-type {\n",
       "        vertical-align: middle;\n",
       "    }\n",
       "\n",
       "    .dataframe tbody tr th {\n",
       "        vertical-align: top;\n",
       "    }\n",
       "\n",
       "    .dataframe thead th {\n",
       "        text-align: right;\n",
       "    }\n",
       "</style>\n",
       "<table border=\"1\" class=\"dataframe\">\n",
       "  <thead>\n",
       "    <tr style=\"text-align: right;\">\n",
       "      <th></th>\n",
       "      <th>capacity_mw</th>\n",
       "      <th>latitude</th>\n",
       "      <th>longitude</th>\n",
       "      <th>primary_fuel</th>\n",
       "      <th>commissioning_year</th>\n",
       "      <th>source</th>\n",
       "      <th>geolocation_source</th>\n",
       "    </tr>\n",
       "  </thead>\n",
       "  <tbody>\n",
       "    <tr>\n",
       "      <th>0</th>\n",
       "      <td>2.5</td>\n",
       "      <td>28.1839</td>\n",
       "      <td>73.2407</td>\n",
       "      <td>Solar</td>\n",
       "      <td>2011.0</td>\n",
       "      <td>National Renewable Energy Laboratory</td>\n",
       "      <td>National Renewable Energy Laboratory</td>\n",
       "    </tr>\n",
       "    <tr>\n",
       "      <th>1</th>\n",
       "      <td>98.0</td>\n",
       "      <td>24.7663</td>\n",
       "      <td>74.6090</td>\n",
       "      <td>Coal</td>\n",
       "      <td>2015.0</td>\n",
       "      <td>Ultratech Cement ltd</td>\n",
       "      <td>WRI</td>\n",
       "    </tr>\n",
       "    <tr>\n",
       "      <th>2</th>\n",
       "      <td>39.2</td>\n",
       "      <td>21.9038</td>\n",
       "      <td>69.3732</td>\n",
       "      <td>Wind</td>\n",
       "      <td>2015.0</td>\n",
       "      <td>CDM</td>\n",
       "      <td>WRI</td>\n",
       "    </tr>\n",
       "    <tr>\n",
       "      <th>3</th>\n",
       "      <td>135.0</td>\n",
       "      <td>23.8712</td>\n",
       "      <td>91.3602</td>\n",
       "      <td>Gas</td>\n",
       "      <td>2004.0</td>\n",
       "      <td>Central Electricity Authority</td>\n",
       "      <td>WRI</td>\n",
       "    </tr>\n",
       "    <tr>\n",
       "      <th>4</th>\n",
       "      <td>1800.0</td>\n",
       "      <td>21.9603</td>\n",
       "      <td>82.4091</td>\n",
       "      <td>Coal</td>\n",
       "      <td>2015.0</td>\n",
       "      <td>Central Electricity Authority</td>\n",
       "      <td>WRI</td>\n",
       "    </tr>\n",
       "  </tbody>\n",
       "</table>\n",
       "</div>"
      ],
      "text/plain": [
       "   capacity_mw  latitude  longitude primary_fuel  commissioning_year  \\\n",
       "0          2.5   28.1839    73.2407        Solar              2011.0   \n",
       "1         98.0   24.7663    74.6090         Coal              2015.0   \n",
       "2         39.2   21.9038    69.3732         Wind              2015.0   \n",
       "3        135.0   23.8712    91.3602          Gas              2004.0   \n",
       "4       1800.0   21.9603    82.4091         Coal              2015.0   \n",
       "\n",
       "                                 source                    geolocation_source  \n",
       "0  National Renewable Energy Laboratory  National Renewable Energy Laboratory  \n",
       "1                  Ultratech Cement ltd                                   WRI  \n",
       "2                                   CDM                                   WRI  \n",
       "3         Central Electricity Authority                                   WRI  \n",
       "4         Central Electricity Authority                                   WRI  "
      ]
     },
     "execution_count": 97,
     "metadata": {},
     "output_type": "execute_result"
    }
   ],
   "source": [
    "new_df = df[(z<3).all(axis=1)]\n",
    "new_df.head()"
   ]
  },
  {
   "cell_type": "markdown",
   "id": "e05ee7ca",
   "metadata": {},
   "source": [
    "# Checking Skewness"
   ]
  },
  {
   "cell_type": "code",
   "execution_count": 100,
   "id": "1e2fb483",
   "metadata": {},
   "outputs": [
    {
     "data": {
      "text/plain": [
       "<AxesSubplot:xlabel='capacity_mw', ylabel='Density'>"
      ]
     },
     "execution_count": 100,
     "metadata": {},
     "output_type": "execute_result"
    },
    {
     "data": {
      "image/png": "[encoded data removed]",
      "text/plain": [
       "<Figure size 432x288 with 1 Axes>"
      ]
     },
     "metadata": {
      "needs_background": "light"
     },
     "output_type": "display_data"
    }
   ],
   "source": [
    "sns.distplot(new_df['capacity_mw'])"
   ]
  },
  {
   "cell_type": "markdown",
   "id": "4edf0ed7",
   "metadata": {},
   "source": [
    "the column is skewed right"
   ]
  },
  {
   "cell_type": "code",
   "execution_count": 101,
   "id": "16819d26",
   "metadata": {},
   "outputs": [
    {
     "data": {
      "text/plain": [
       "<AxesSubplot:xlabel='latitude', ylabel='Density'>"
      ]
     },
     "execution_count": 101,
     "metadata": {},
     "output_type": "execute_result"
    },
    {
     "data": {
      "image/png": "[encoded data removed]",
      "text/plain": [
       "<Figure size 432x288 with 1 Axes>"
      ]
     },
     "metadata": {
      "needs_background": "light"
     },
     "output_type": "display_data"
    }
   ],
   "source": [
    "sns.distplot(new_df['latitude'])"
   ]
  },
  {
   "cell_type": "markdown",
   "id": "b4e4342e",
   "metadata": {},
   "source": [
    "there is no skewness"
   ]
  },
  {
   "cell_type": "code",
   "execution_count": 102,
   "id": "70299a45",
   "metadata": {},
   "outputs": [
    {
     "data": {
      "text/plain": [
       "<AxesSubplot:xlabel='longitude', ylabel='Density'>"
      ]
     },
     "execution_count": 102,
     "metadata": {},
     "output_type": "execute_result"
    },
    {
     "data": {
      "image/png": "[encoded data removed]",
      "text/plain": [
       "<Figure size 432x288 with 1 Axes>"
      ]
     },
     "metadata": {
      "needs_background": "light"
     },
     "output_type": "display_data"
    }
   ],
   "source": [
    "sns.distplot(new_df['longitude'])"
   ]
  },
  {
   "cell_type": "markdown",
   "id": "f88af9de",
   "metadata": {},
   "source": [
    "this column is rightly skewed"
   ]
  },
  {
   "cell_type": "code",
   "execution_count": 104,
   "id": "4dfc9d2b",
   "metadata": {},
   "outputs": [
    {
     "data": {
      "text/plain": [
       "capacity_mw           1.994210\n",
       "latitude             -0.111264\n",
       "longitude             0.914342\n",
       "commissioning_year   -1.526273\n",
       "dtype: float64"
      ]
     },
     "execution_count": 104,
     "metadata": {},
     "output_type": "execute_result"
    }
   ],
   "source": [
    "new_df.skew()"
   ]
  },
  {
   "cell_type": "code",
   "execution_count": 105,
   "id": "afc37510",
   "metadata": {},
   "outputs": [],
   "source": [
    "skew_cols = [\"capacity_mw\",\"longitude\",\"commissioning_year\"]"
   ]
  },
  {
   "cell_type": "code",
   "execution_count": 106,
   "id": "73ec8949",
   "metadata": {},
   "outputs": [],
   "source": [
    "pt=PowerTransformer(method='yeo-johnson')"
   ]
  },
  {
   "cell_type": "code",
   "execution_count": 107,
   "id": "b8c221fd",
   "metadata": {},
   "outputs": [
    {
     "data": {
      "text/html": [
       "<div>\n",
       "<style scoped>\n",
       "    .dataframe tbody tr th:only-of-type {\n",
       "        vertical-align: middle;\n",
       "    }\n",
       "\n",
       "    .dataframe tbody tr th {\n",
       "        vertical-align: top;\n",
       "    }\n",
       "\n",
       "    .dataframe thead th {\n",
       "        text-align: right;\n",
       "    }\n",
       "</style>\n",
       "<table border=\"1\" class=\"dataframe\">\n",
       "  <thead>\n",
       "    <tr style=\"text-align: right;\">\n",
       "      <th></th>\n",
       "      <th>capacity_mw</th>\n",
       "      <th>longitude</th>\n",
       "      <th>commissioning_year</th>\n",
       "    </tr>\n",
       "  </thead>\n",
       "  <tbody>\n",
       "    <tr>\n",
       "      <th>0</th>\n",
       "      <td>-1.677835</td>\n",
       "      <td>-0.931766</td>\n",
       "      <td>0.312870</td>\n",
       "    </tr>\n",
       "    <tr>\n",
       "      <th>1</th>\n",
       "      <td>0.222442</td>\n",
       "      <td>-0.513337</td>\n",
       "      <td>0.722763</td>\n",
       "    </tr>\n",
       "    <tr>\n",
       "      <th>2</th>\n",
       "      <td>-0.273320</td>\n",
       "      <td>-2.364539</td>\n",
       "      <td>0.722763</td>\n",
       "    </tr>\n",
       "    <tr>\n",
       "      <th>3</th>\n",
       "      <td>0.394279</td>\n",
       "      <td>2.443713</td>\n",
       "      <td>-0.320264</td>\n",
       "    </tr>\n",
       "    <tr>\n",
       "      <th>4</th>\n",
       "      <td>1.739306</td>\n",
       "      <td>1.251046</td>\n",
       "      <td>0.722763</td>\n",
       "    </tr>\n",
       "  </tbody>\n",
       "</table>\n",
       "</div>"
      ],
      "text/plain": [
       "   capacity_mw  longitude  commissioning_year\n",
       "0    -1.677835  -0.931766            0.312870\n",
       "1     0.222442  -0.513337            0.722763\n",
       "2    -0.273320  -2.364539            0.722763\n",
       "3     0.394279   2.443713           -0.320264\n",
       "4     1.739306   1.251046            0.722763"
      ]
     },
     "execution_count": 107,
     "metadata": {},
     "output_type": "execute_result"
    }
   ],
   "source": [
    "new_df[skew_cols] = pt.fit_transform(new_df[skew_cols].values)\n",
    "new_df[skew_cols].head()"
   ]
  },
  {
   "cell_type": "code",
   "execution_count": 108,
   "id": "f0ef3aa3",
   "metadata": {},
   "outputs": [
    {
     "data": {
      "text/plain": [
       "capacity_mw           0.015969\n",
       "latitude             -0.111264\n",
       "longitude             0.000200\n",
       "commissioning_year   -1.089844\n",
       "dtype: float64"
      ]
     },
     "execution_count": 108,
     "metadata": {},
     "output_type": "execute_result"
    }
   ],
   "source": [
    "new_df.skew()"
   ]
  },
  {
   "cell_type": "markdown",
   "id": "2f0a8f2f",
   "metadata": {},
   "source": [
    "we already applied transformation but still commissioning_year is skewed"
   ]
  },
  {
   "cell_type": "markdown",
   "id": "08c66465",
   "metadata": {},
   "source": [
    "# Encoding"
   ]
  },
  {
   "cell_type": "code",
   "execution_count": 109,
   "id": "8c38ae13",
   "metadata": {},
   "outputs": [
    {
     "data": {
      "text/html": [
       "<div>\n",
       "<style scoped>\n",
       "    .dataframe tbody tr th:only-of-type {\n",
       "        vertical-align: middle;\n",
       "    }\n",
       "\n",
       "    .dataframe tbody tr th {\n",
       "        vertical-align: top;\n",
       "    }\n",
       "\n",
       "    .dataframe thead th {\n",
       "        text-align: right;\n",
       "    }\n",
       "</style>\n",
       "<table border=\"1\" class=\"dataframe\">\n",
       "  <thead>\n",
       "    <tr style=\"text-align: right;\">\n",
       "      <th></th>\n",
       "      <th>capacity_mw</th>\n",
       "      <th>latitude</th>\n",
       "      <th>longitude</th>\n",
       "      <th>primary_fuel</th>\n",
       "      <th>commissioning_year</th>\n",
       "      <th>source</th>\n",
       "      <th>geolocation_source</th>\n",
       "    </tr>\n",
       "  </thead>\n",
       "  <tbody>\n",
       "    <tr>\n",
       "      <th>0</th>\n",
       "      <td>-1.677835</td>\n",
       "      <td>28.1839</td>\n",
       "      <td>-0.931766</td>\n",
       "      <td>6</td>\n",
       "      <td>0.312870</td>\n",
       "      <td>National Renewable Energy Laboratory</td>\n",
       "      <td>National Renewable Energy Laboratory</td>\n",
       "    </tr>\n",
       "    <tr>\n",
       "      <th>1</th>\n",
       "      <td>0.222442</td>\n",
       "      <td>24.7663</td>\n",
       "      <td>-0.513337</td>\n",
       "      <td>1</td>\n",
       "      <td>0.722763</td>\n",
       "      <td>Ultratech Cement ltd</td>\n",
       "      <td>WRI</td>\n",
       "    </tr>\n",
       "    <tr>\n",
       "      <th>2</th>\n",
       "      <td>-0.273320</td>\n",
       "      <td>21.9038</td>\n",
       "      <td>-2.364539</td>\n",
       "      <td>7</td>\n",
       "      <td>0.722763</td>\n",
       "      <td>CDM</td>\n",
       "      <td>WRI</td>\n",
       "    </tr>\n",
       "    <tr>\n",
       "      <th>3</th>\n",
       "      <td>0.394279</td>\n",
       "      <td>23.8712</td>\n",
       "      <td>2.443713</td>\n",
       "      <td>2</td>\n",
       "      <td>-0.320264</td>\n",
       "      <td>Central Electricity Authority</td>\n",
       "      <td>WRI</td>\n",
       "    </tr>\n",
       "    <tr>\n",
       "      <th>4</th>\n",
       "      <td>1.739306</td>\n",
       "      <td>21.9603</td>\n",
       "      <td>1.251046</td>\n",
       "      <td>1</td>\n",
       "      <td>0.722763</td>\n",
       "      <td>Central Electricity Authority</td>\n",
       "      <td>WRI</td>\n",
       "    </tr>\n",
       "  </tbody>\n",
       "</table>\n",
       "</div>"
      ],
      "text/plain": [
       "   capacity_mw  latitude  longitude  primary_fuel  commissioning_year  \\\n",
       "0    -1.677835   28.1839  -0.931766             6            0.312870   \n",
       "1     0.222442   24.7663  -0.513337             1            0.722763   \n",
       "2    -0.273320   21.9038  -2.364539             7            0.722763   \n",
       "3     0.394279   23.8712   2.443713             2           -0.320264   \n",
       "4     1.739306   21.9603   1.251046             1            0.722763   \n",
       "\n",
       "                                 source                    geolocation_source  \n",
       "0  National Renewable Energy Laboratory  National Renewable Energy Laboratory  \n",
       "1                  Ultratech Cement ltd                                   WRI  \n",
       "2                                   CDM                                   WRI  \n",
       "3         Central Electricity Authority                                   WRI  \n",
       "4         Central Electricity Authority                                   WRI  "
      ]
     },
     "execution_count": 109,
     "metadata": {},
     "output_type": "execute_result"
    }
   ],
   "source": [
    "le = LabelEncoder()\n",
    "new_df[\"primary_fuel\"] = le.fit_transform(new_df[\"primary_fuel\"])\n",
    "new_df.head()"
   ]
  },
  {
   "cell_type": "code",
   "execution_count": 111,
   "id": "45543647",
   "metadata": {},
   "outputs": [
    {
     "data": {
      "text/html": [
       "<div>\n",
       "<style scoped>\n",
       "    .dataframe tbody tr th:only-of-type {\n",
       "        vertical-align: middle;\n",
       "    }\n",
       "\n",
       "    .dataframe tbody tr th {\n",
       "        vertical-align: top;\n",
       "    }\n",
       "\n",
       "    .dataframe thead th {\n",
       "        text-align: right;\n",
       "    }\n",
       "</style>\n",
       "<table border=\"1\" class=\"dataframe\">\n",
       "  <thead>\n",
       "    <tr style=\"text-align: right;\">\n",
       "      <th></th>\n",
       "      <th>capacity_mw</th>\n",
       "      <th>latitude</th>\n",
       "      <th>longitude</th>\n",
       "      <th>primary_fuel</th>\n",
       "      <th>commissioning_year</th>\n",
       "      <th>source</th>\n",
       "      <th>geolocation_source</th>\n",
       "    </tr>\n",
       "  </thead>\n",
       "  <tbody>\n",
       "    <tr>\n",
       "      <th>0</th>\n",
       "      <td>-1.677835</td>\n",
       "      <td>28.1839</td>\n",
       "      <td>-0.931766</td>\n",
       "      <td>6</td>\n",
       "      <td>0.312870</td>\n",
       "      <td>109.0</td>\n",
       "      <td>1.0</td>\n",
       "    </tr>\n",
       "    <tr>\n",
       "      <th>1</th>\n",
       "      <td>0.222442</td>\n",
       "      <td>24.7663</td>\n",
       "      <td>-0.513337</td>\n",
       "      <td>1</td>\n",
       "      <td>0.722763</td>\n",
       "      <td>174.0</td>\n",
       "      <td>2.0</td>\n",
       "    </tr>\n",
       "    <tr>\n",
       "      <th>2</th>\n",
       "      <td>-0.273320</td>\n",
       "      <td>21.9038</td>\n",
       "      <td>-2.364539</td>\n",
       "      <td>7</td>\n",
       "      <td>0.722763</td>\n",
       "      <td>21.0</td>\n",
       "      <td>2.0</td>\n",
       "    </tr>\n",
       "    <tr>\n",
       "      <th>3</th>\n",
       "      <td>0.394279</td>\n",
       "      <td>23.8712</td>\n",
       "      <td>2.443713</td>\n",
       "      <td>2</td>\n",
       "      <td>-0.320264</td>\n",
       "      <td>22.0</td>\n",
       "      <td>2.0</td>\n",
       "    </tr>\n",
       "    <tr>\n",
       "      <th>4</th>\n",
       "      <td>1.739306</td>\n",
       "      <td>21.9603</td>\n",
       "      <td>1.251046</td>\n",
       "      <td>1</td>\n",
       "      <td>0.722763</td>\n",
       "      <td>22.0</td>\n",
       "      <td>2.0</td>\n",
       "    </tr>\n",
       "  </tbody>\n",
       "</table>\n",
       "</div>"
      ],
      "text/plain": [
       "   capacity_mw  latitude  longitude  primary_fuel  commissioning_year  source  \\\n",
       "0    -1.677835   28.1839  -0.931766             6            0.312870   109.0   \n",
       "1     0.222442   24.7663  -0.513337             1            0.722763   174.0   \n",
       "2    -0.273320   21.9038  -2.364539             7            0.722763    21.0   \n",
       "3     0.394279   23.8712   2.443713             2           -0.320264    22.0   \n",
       "4     1.739306   21.9603   1.251046             1            0.722763    22.0   \n",
       "\n",
       "   geolocation_source  \n",
       "0                 1.0  \n",
       "1                 2.0  \n",
       "2                 2.0  \n",
       "3                 2.0  \n",
       "4                 2.0  "
      ]
     },
     "execution_count": 111,
     "metadata": {},
     "output_type": "execute_result"
    }
   ],
   "source": [
    "oe = OrdinalEncoder()\n",
    "new_df['geolocation_source'] = oe.fit_transform(new_df['geolocation_source'].values.reshape(-1,1))\n",
    "new_df['source'] = oe.fit_transform(new_df['source'].values.reshape(-1,1))\n",
    "new_df.head()"
   ]
  },
  {
   "cell_type": "markdown",
   "id": "7d9a806e",
   "metadata": {},
   "source": [
    "# Seperating features and Label for classification problem"
   ]
  },
  {
   "cell_type": "code",
   "execution_count": 115,
   "id": "de8058c5",
   "metadata": {},
   "outputs": [],
   "source": [
    "X = new_df.drop('primary_fuel', axis=1)\n",
    "Y = new_df['primary_fuel']"
   ]
  },
  {
   "cell_type": "markdown",
   "id": "f45a7933",
   "metadata": {},
   "source": [
    "# Resolving the class imbalance issue in our label column"
   ]
  },
  {
   "cell_type": "code",
   "execution_count": 116,
   "id": "cec3277b",
   "metadata": {},
   "outputs": [
    {
     "data": {
      "text/plain": [
       "1    238\n",
       "3    222\n",
       "6    126\n",
       "7    123\n",
       "2     65\n",
       "0     50\n",
       "5     20\n",
       "4      9\n",
       "Name: primary_fuel, dtype: int64"
      ]
     },
     "execution_count": 116,
     "metadata": {},
     "output_type": "execute_result"
    }
   ],
   "source": [
    "Y.value_counts()"
   ]
  },
  {
   "cell_type": "code",
   "execution_count": 117,
   "id": "8ff5f184",
   "metadata": {},
   "outputs": [],
   "source": [
    "smt = SMOTE()\n",
    "X, Y = smt.fit_resample(X, Y)\n"
   ]
  },
  {
   "cell_type": "code",
   "execution_count": 118,
   "id": "287cb32e",
   "metadata": {},
   "outputs": [
    {
     "data": {
      "text/plain": [
       "0    238\n",
       "1    238\n",
       "2    238\n",
       "3    238\n",
       "4    238\n",
       "5    238\n",
       "6    238\n",
       "7    238\n",
       "Name: primary_fuel, dtype: int64"
      ]
     },
     "execution_count": 118,
     "metadata": {},
     "output_type": "execute_result"
    }
   ],
   "source": [
    "Y.value_counts()"
   ]
  },
  {
   "cell_type": "markdown",
   "id": "7ef43c45",
   "metadata": {},
   "source": [
    "# Scaling"
   ]
  },
  {
   "cell_type": "code",
   "execution_count": 119,
   "id": "3b3c229c",
   "metadata": {},
   "outputs": [],
   "source": [
    "sc=StandardScaler()\n",
    "scale_x=sc.fit_transform(X)\n",
    "X=pd.DataFrame(scale_x,columns=X.columns)"
   ]
  },
  {
   "cell_type": "code",
   "execution_count": 121,
   "id": "c7d16379",
   "metadata": {},
   "outputs": [
    {
     "data": {
      "text/html": [
       "<div>\n",
       "<style scoped>\n",
       "    .dataframe tbody tr th:only-of-type {\n",
       "        vertical-align: middle;\n",
       "    }\n",
       "\n",
       "    .dataframe tbody tr th {\n",
       "        vertical-align: top;\n",
       "    }\n",
       "\n",
       "    .dataframe thead th {\n",
       "        text-align: right;\n",
       "    }\n",
       "</style>\n",
       "<table border=\"1\" class=\"dataframe\">\n",
       "  <thead>\n",
       "    <tr style=\"text-align: right;\">\n",
       "      <th></th>\n",
       "      <th>capacity_mw</th>\n",
       "      <th>latitude</th>\n",
       "      <th>longitude</th>\n",
       "      <th>commissioning_year</th>\n",
       "      <th>source</th>\n",
       "      <th>geolocation_source</th>\n",
       "    </tr>\n",
       "  </thead>\n",
       "  <tbody>\n",
       "    <tr>\n",
       "      <th>0</th>\n",
       "      <td>-1.816428</td>\n",
       "      <td>1.462720</td>\n",
       "      <td>-0.839166</td>\n",
       "      <td>0.327637</td>\n",
       "      <td>1.206870</td>\n",
       "      <td>-1.186254</td>\n",
       "    </tr>\n",
       "    <tr>\n",
       "      <th>1</th>\n",
       "      <td>0.195344</td>\n",
       "      <td>0.858447</td>\n",
       "      <td>-0.368574</td>\n",
       "      <td>0.774032</td>\n",
       "      <td>2.552289</td>\n",
       "      <td>0.369558</td>\n",
       "    </tr>\n",
       "    <tr>\n",
       "      <th>2</th>\n",
       "      <td>-0.329505</td>\n",
       "      <td>0.352323</td>\n",
       "      <td>-2.450551</td>\n",
       "      <td>0.774032</td>\n",
       "      <td>-0.614621</td>\n",
       "      <td>0.369558</td>\n",
       "    </tr>\n",
       "    <tr>\n",
       "      <th>3</th>\n",
       "      <td>0.377264</td>\n",
       "      <td>0.700183</td>\n",
       "      <td>2.957108</td>\n",
       "      <td>-0.361880</td>\n",
       "      <td>-0.593922</td>\n",
       "      <td>0.369558</td>\n",
       "    </tr>\n",
       "    <tr>\n",
       "      <th>4</th>\n",
       "      <td>1.801207</td>\n",
       "      <td>0.362313</td>\n",
       "      <td>1.615760</td>\n",
       "      <td>0.774032</td>\n",
       "      <td>-0.593922</td>\n",
       "      <td>0.369558</td>\n",
       "    </tr>\n",
       "  </tbody>\n",
       "</table>\n",
       "</div>"
      ],
      "text/plain": [
       "   capacity_mw  latitude  longitude  commissioning_year    source  \\\n",
       "0    -1.816428  1.462720  -0.839166            0.327637  1.206870   \n",
       "1     0.195344  0.858447  -0.368574            0.774032  2.552289   \n",
       "2    -0.329505  0.352323  -2.450551            0.774032 -0.614621   \n",
       "3     0.377264  0.700183   2.957108           -0.361880 -0.593922   \n",
       "4     1.801207  0.362313   1.615760            0.774032 -0.593922   \n",
       "\n",
       "   geolocation_source  \n",
       "0           -1.186254  \n",
       "1            0.369558  \n",
       "2            0.369558  \n",
       "3            0.369558  \n",
       "4            0.369558  "
      ]
     },
     "execution_count": 121,
     "metadata": {},
     "output_type": "execute_result"
    }
   ],
   "source": [
    "X.head()"
   ]
  },
  {
   "cell_type": "markdown",
   "id": "f2fc619e",
   "metadata": {},
   "source": [
    "# Train test splitting and Model training"
   ]
  },
  {
   "cell_type": "code",
   "execution_count": 128,
   "id": "34067011",
   "metadata": {},
   "outputs": [
    {
     "name": "stdout",
     "output_type": "stream",
     "text": [
      "Best accuracy is  0.9448818897637795  on Random_state  25\n"
     ]
    }
   ],
   "source": [
    "maxAccu=0\n",
    "maxRS=0\n",
    "for i in range(1,200):\n",
    "    x_train,x_test,y_train,y_test = train_test_split(X,Y,test_size=.20, random_state =i)\n",
    "    rfc = RandomForestClassifier()\n",
    "    rfc.fit(x_train, y_train)\n",
    "    pred = rfc.predict(x_test)\n",
    "    acc=accuracy_score(y_test, pred)\n",
    "    if acc>maxAccu:\n",
    "        maxAccu=acc\n",
    "        maxRS=i\n",
    "print(\"Best accuracy is \",maxAccu,\" on Random_state \",maxRS)"
   ]
  },
  {
   "cell_type": "code",
   "execution_count": 129,
   "id": "efbf30d7",
   "metadata": {},
   "outputs": [],
   "source": [
    "x_train,x_test,y_train,y_test = train_test_split(X,Y,test_size=.20, random_state =25)"
   ]
  },
  {
   "cell_type": "markdown",
   "id": "b4702aa5",
   "metadata": {},
   "source": [
    "# KNeighborsClassifier"
   ]
  },
  {
   "cell_type": "code",
   "execution_count": 130,
   "id": "e6630270",
   "metadata": {},
   "outputs": [
    {
     "name": "stdout",
     "output_type": "stream",
     "text": [
      "0.8766404199475065\n",
      "[[49  0  0  0  0  0  0  4]\n",
      " [ 6 34  5  2  2  1  0  1]\n",
      " [ 0  1 31  2  3  2  0  0]\n",
      " [ 0  3  1 34  0  5  0  3]\n",
      " [ 0  0  0  0 50  0  0  0]\n",
      " [ 0  0  3  0  1 50  0  0]\n",
      " [ 0  0  0  0  0  0 42  0]\n",
      " [ 2  0  0  0  0  0  0 44]]\n",
      "              precision    recall  f1-score   support\n",
      "\n",
      "           0       0.86      0.92      0.89        53\n",
      "           1       0.89      0.67      0.76        51\n",
      "           2       0.78      0.79      0.78        39\n",
      "           3       0.89      0.74      0.81        46\n",
      "           4       0.89      1.00      0.94        50\n",
      "           5       0.86      0.93      0.89        54\n",
      "           6       1.00      1.00      1.00        42\n",
      "           7       0.85      0.96      0.90        46\n",
      "\n",
      "    accuracy                           0.88       381\n",
      "   macro avg       0.88      0.88      0.87       381\n",
      "weighted avg       0.88      0.88      0.87       381\n",
      "\n"
     ]
    }
   ],
   "source": [
    "knc = KNeighborsClassifier()\n",
    "knc.fit(x_train,y_train)\n",
    "predknc = knc.predict(x_test)\n",
    "\n",
    "print(accuracy_score(y_test, predknc))\n",
    "print(confusion_matrix(y_test, predknc))\n",
    "print(classification_report(y_test,predknc))"
   ]
  },
  {
   "cell_type": "markdown",
   "id": "d86254b8",
   "metadata": {},
   "source": [
    "# Support Vector Machine Classifier"
   ]
  },
  {
   "cell_type": "code",
   "execution_count": 131,
   "id": "7ea0d865",
   "metadata": {},
   "outputs": [
    {
     "name": "stdout",
     "output_type": "stream",
     "text": [
      "0.8346456692913385\n",
      "[[45  0  0  0  0  0  0  8]\n",
      " [ 7 35  3  2  3  0  0  1]\n",
      " [ 0  2 23  0  6  6  0  2]\n",
      " [ 0  1  0 35  1  7  0  2]\n",
      " [ 0  0  0  0 50  0  0  0]\n",
      " [ 0  2  2  1  1 44  0  4]\n",
      " [ 0  1  0  0  0  0 41  0]\n",
      " [ 0  1  0  0  0  0  0 45]]\n",
      "              precision    recall  f1-score   support\n",
      "\n",
      "           0       0.87      0.85      0.86        53\n",
      "           1       0.83      0.69      0.75        51\n",
      "           2       0.82      0.59      0.69        39\n",
      "           3       0.92      0.76      0.83        46\n",
      "           4       0.82      1.00      0.90        50\n",
      "           5       0.77      0.81      0.79        54\n",
      "           6       1.00      0.98      0.99        42\n",
      "           7       0.73      0.98      0.83        46\n",
      "\n",
      "    accuracy                           0.83       381\n",
      "   macro avg       0.84      0.83      0.83       381\n",
      "weighted avg       0.84      0.83      0.83       381\n",
      "\n"
     ]
    }
   ],
   "source": [
    "svc = SVC()\n",
    "svc.fit(x_train,y_train)\n",
    "predsvc = svc.predict(x_test)\n",
    "\n",
    "print(accuracy_score(y_test, predsvc))\n",
    "print(confusion_matrix(y_test, predsvc))\n",
    "print(classification_report(y_test,predsvc))"
   ]
  },
  {
   "cell_type": "markdown",
   "id": "69edb35c",
   "metadata": {},
   "source": [
    "# DecisionTreeClassifier"
   ]
  },
  {
   "cell_type": "code",
   "execution_count": 132,
   "id": "db2660b7",
   "metadata": {},
   "outputs": [
    {
     "name": "stdout",
     "output_type": "stream",
     "text": [
      "0.884514435695538\n",
      "[[51  2  0  0  0  0  0  0]\n",
      " [ 3 34  6  5  2  1  0  0]\n",
      " [ 0  2 34  0  2  1  0  0]\n",
      " [ 0  2  2 38  1  3  0  0]\n",
      " [ 0  4  0  3 43  0  0  0]\n",
      " [ 0  0  3  2  0 49  0  0]\n",
      " [ 0  0  0  0  0  0 42  0]\n",
      " [ 0  0  0  0  0  0  0 46]]\n",
      "              precision    recall  f1-score   support\n",
      "\n",
      "           0       0.94      0.96      0.95        53\n",
      "           1       0.77      0.67      0.72        51\n",
      "           2       0.76      0.87      0.81        39\n",
      "           3       0.79      0.83      0.81        46\n",
      "           4       0.90      0.86      0.88        50\n",
      "           5       0.91      0.91      0.91        54\n",
      "           6       1.00      1.00      1.00        42\n",
      "           7       1.00      1.00      1.00        46\n",
      "\n",
      "    accuracy                           0.88       381\n",
      "   macro avg       0.88      0.89      0.88       381\n",
      "weighted avg       0.88      0.88      0.88       381\n",
      "\n"
     ]
    }
   ],
   "source": [
    "dtc = DecisionTreeClassifier()\n",
    "dtc.fit(x_train,y_train)\n",
    "preddtc = dtc.predict(x_test)\n",
    "\n",
    "print(accuracy_score(y_test, preddtc))\n",
    "print(confusion_matrix(y_test, preddtc))\n",
    "print(classification_report(y_test,preddtc))"
   ]
  },
  {
   "cell_type": "markdown",
   "id": "5667035a",
   "metadata": {},
   "source": [
    "# RandomForestClassifier"
   ]
  },
  {
   "cell_type": "code",
   "execution_count": 133,
   "id": "957c4075",
   "metadata": {},
   "outputs": [
    {
     "name": "stdout",
     "output_type": "stream",
     "text": [
      "0.937007874015748\n",
      "[[53  0  0  0  0  0  0  0]\n",
      " [ 4 40  2  1  3  1  0  0]\n",
      " [ 0  2 33  1  1  2  0  0]\n",
      " [ 0  4  0 41  0  1  0  0]\n",
      " [ 0  0  0  0 50  0  0  0]\n",
      " [ 0  0  1  1  0 52  0  0]\n",
      " [ 0  0  0  0  0  0 42  0]\n",
      " [ 0  0  0  0  0  0  0 46]]\n",
      "              precision    recall  f1-score   support\n",
      "\n",
      "           0       0.93      1.00      0.96        53\n",
      "           1       0.87      0.78      0.82        51\n",
      "           2       0.92      0.85      0.88        39\n",
      "           3       0.93      0.89      0.91        46\n",
      "           4       0.93      1.00      0.96        50\n",
      "           5       0.93      0.96      0.95        54\n",
      "           6       1.00      1.00      1.00        42\n",
      "           7       1.00      1.00      1.00        46\n",
      "\n",
      "    accuracy                           0.94       381\n",
      "   macro avg       0.94      0.94      0.94       381\n",
      "weighted avg       0.94      0.94      0.94       381\n",
      "\n"
     ]
    }
   ],
   "source": [
    "rfc = RandomForestClassifier()\n",
    "rfc.fit(x_train,y_train)\n",
    "predrfc = rfc.predict(x_test)\n",
    "\n",
    "print(accuracy_score(y_test, predrfc))\n",
    "print(confusion_matrix(y_test, predrfc))\n",
    "print(classification_report(y_test,predrfc))"
   ]
  },
  {
   "cell_type": "markdown",
   "id": "923933ad",
   "metadata": {},
   "source": [
    "# Cross validation"
   ]
  },
  {
   "cell_type": "code",
   "execution_count": 137,
   "id": "788714e3",
   "metadata": {},
   "outputs": [
    {
     "name": "stdout",
     "output_type": "stream",
     "text": [
      "Cross Validation of KNeighbors Classifier model  0.8686931896670812\n"
     ]
    }
   ],
   "source": [
    "cvs = cross_val_score(knc, X, Y, cv=5)\n",
    "print(\"Cross Validation of KNeighbors Classifier model \",cvs.mean())"
   ]
  },
  {
   "cell_type": "code",
   "execution_count": 138,
   "id": "5dacdeaf",
   "metadata": {},
   "outputs": [
    {
     "name": "stdout",
     "output_type": "stream",
     "text": [
      "Cross Validation of DecisionTree Classifier model  0.8681668738776074\n"
     ]
    }
   ],
   "source": [
    "cvs = cross_val_score(dtc, X, Y, cv=5)\n",
    "print(\"Cross Validation of DecisionTree Classifier model \",cvs.mean())"
   ]
  },
  {
   "cell_type": "code",
   "execution_count": 139,
   "id": "05ff17bb",
   "metadata": {},
   "outputs": [
    {
     "name": "stdout",
     "output_type": "stream",
     "text": [
      "Cross Validation of Support Vector Machine Classifier model  0.801997513468711\n"
     ]
    }
   ],
   "source": [
    "cvs = cross_val_score(svc, X, Y, cv=5)\n",
    "print(\"Cross Validation of Support Vector Machine Classifier model \",cvs.mean())"
   ]
  },
  {
   "cell_type": "code",
   "execution_count": 140,
   "id": "a0606320",
   "metadata": {},
   "outputs": [
    {
     "name": "stdout",
     "output_type": "stream",
     "text": [
      "Cross Validation of Random Forest Classifier model  0.9065036607266197\n"
     ]
    }
   ],
   "source": [
    "cvs = cross_val_score(rfc, X, Y, cv=5)\n",
    "print(\"Cross Validation of Random Forest Classifier model \",cvs.mean())"
   ]
  },
  {
   "cell_type": "markdown",
   "id": "1a71c577",
   "metadata": {},
   "source": [
    "Cross validation score is highest for Random Forest,So will do hyper parameter tuning for Random Forest."
   ]
  },
  {
   "cell_type": "markdown",
   "id": "740becae",
   "metadata": {},
   "source": [
    "# HyperParameter Tuning"
   ]
  },
  {
   "cell_type": "code",
   "execution_count": 145,
   "id": "330211e3",
   "metadata": {},
   "outputs": [],
   "source": [
    "rfc = RandomForestClassifier()\n",
    "parameters={'n_estimators' : [100,200],\n",
    "            'criterion':['gini','entropy'],\n",
    "            'max_depth':range(2,10),\n",
    "            'max_features':[\"auto\",\"sqrt\",\"log2\"],\n",
    "            }"
   ]
  },
  {
   "cell_type": "code",
   "execution_count": 146,
   "id": "549e4148",
   "metadata": {},
   "outputs": [],
   "source": [
    "gridsearch=GridSearchCV(rfc,parameters)"
   ]
  },
  {
   "cell_type": "code",
   "execution_count": 147,
   "id": "9f50d44d",
   "metadata": {},
   "outputs": [
    {
     "data": {
      "text/html": [
       "<style>#sk-container-id-1 {color: black;background-color: white;}#sk-container-id-1 pre{padding: 0;}#sk-container-id-1 div.sk-toggleable {background-color: white;}#sk-container-id-1 label.sk-toggleable__label {cursor: pointer;display: block;width: 100%;margin-bottom: 0;padding: 0.3em;box-sizing: border-box;text-align: center;}#sk-container-id-1 label.sk-toggleable__label-arrow:before {content: \"▸\";float: left;margin-right: 0.25em;color: #696969;}#sk-container-id-1 label.sk-toggleable__label-arrow:hover:before {color: black;}#sk-container-id-1 div.sk-estimator:hover label.sk-toggleable__label-arrow:before {color: black;}#sk-container-id-1 div.sk-toggleable__content {max-height: 0;max-width: 0;overflow: hidden;text-align: left;background-color: #f0f8ff;}#sk-container-id-1 div.sk-toggleable__content pre {margin: 0.2em;color: black;border-radius: 0.25em;background-color: #f0f8ff;}#sk-container-id-1 input.sk-toggleable__control:checked~div.sk-toggleable__content {max-height: 200px;max-width: 100%;overflow: auto;}#sk-container-id-1 input.sk-toggleable__control:checked~label.sk-toggleable__label-arrow:before {content: \"▾\";}#sk-container-id-1 div.sk-estimator input.sk-toggleable__control:checked~label.sk-toggleable__label {background-color: #d4ebff;}#sk-container-id-1 div.sk-label input.sk-toggleable__control:checked~label.sk-toggleable__label {background-color: #d4ebff;}#sk-container-id-1 input.sk-hidden--visually {border: 0;clip: rect(1px 1px 1px 1px);clip: rect(1px, 1px, 1px, 1px);height: 1px;margin: -1px;overflow: hidden;padding: 0;position: absolute;width: 1px;}#sk-container-id-1 div.sk-estimator {font-family: monospace;background-color: #f0f8ff;border: 1px dotted black;border-radius: 0.25em;box-sizing: border-box;margin-bottom: 0.5em;}#sk-container-id-1 div.sk-estimator:hover {background-color: #d4ebff;}#sk-container-id-1 div.sk-parallel-item::after {content: \"\";width: 100%;border-bottom: 1px solid gray;flex-grow: 1;}#sk-container-id-1 div.sk-label:hover label.sk-toggleable__label {background-color: #d4ebff;}#sk-container-id-1 div.sk-serial::before {content: \"\";position: absolute;border-left: 1px solid gray;box-sizing: border-box;top: 0;bottom: 0;left: 50%;z-index: 0;}#sk-container-id-1 div.sk-serial {display: flex;flex-direction: column;align-items: center;background-color: white;padding-right: 0.2em;padding-left: 0.2em;position: relative;}#sk-container-id-1 div.sk-item {position: relative;z-index: 1;}#sk-container-id-1 div.sk-parallel {display: flex;align-items: stretch;justify-content: center;background-color: white;position: relative;}#sk-container-id-1 div.sk-item::before, #sk-container-id-1 div.sk-parallel-item::before {content: \"\";position: absolute;border-left: 1px solid gray;box-sizing: border-box;top: 0;bottom: 0;left: 50%;z-index: -1;}#sk-container-id-1 div.sk-parallel-item {display: flex;flex-direction: column;z-index: 1;position: relative;background-color: white;}#sk-container-id-1 div.sk-parallel-item:first-child::after {align-self: flex-end;width: 50%;}#sk-container-id-1 div.sk-parallel-item:last-child::after {align-self: flex-start;width: 50%;}#sk-container-id-1 div.sk-parallel-item:only-child::after {width: 0;}#sk-container-id-1 div.sk-dashed-wrapped {border: 1px dashed gray;margin: 0 0.4em 0.5em 0.4em;box-sizing: border-box;padding-bottom: 0.4em;background-color: white;}#sk-container-id-1 div.sk-label label {font-family: monospace;font-weight: bold;display: inline-block;line-height: 1.2em;}#sk-container-id-1 div.sk-label-container {text-align: center;}#sk-container-id-1 div.sk-container {/* jupyter's `normalize.less` sets `[hidden] { display: none; }` but bootstrap.min.css set `[hidden] { display: none !important; }` so we also need the `!important` here to be able to override the default hidden behavior on the sphinx rendered scikit-learn.org. See: https://github.com/scikit-learn/scikit-learn/issues/21755 */display: inline-block !important;position: relative;}#sk-container-id-1 div.sk-text-repr-fallback {display: none;}</style><div id=\"sk-container-id-1\" class=\"sk-top-container\"><div class=\"sk-text-repr-fallback\"><pre>GridSearchCV(estimator=RandomForestClassifier(),\n",
       "             param_grid={&#x27;criterion&#x27;: [&#x27;gini&#x27;, &#x27;entropy&#x27;],\n",
       "                         &#x27;max_depth&#x27;: range(2, 10),\n",
       "                         &#x27;max_features&#x27;: [&#x27;auto&#x27;, &#x27;sqrt&#x27;, &#x27;log2&#x27;],\n",
       "                         &#x27;n_estimators&#x27;: [100, 200]})</pre><b>In a Jupyter environment, please rerun this cell to show the HTML representation or trust the notebook. <br />On GitHub, the HTML representation is unable to render, please try loading this page with nbviewer.org.</b></div><div class=\"sk-container\" hidden><div class=\"sk-item sk-dashed-wrapped\"><div class=\"sk-label-container\"><div class=\"sk-label sk-toggleable\"><input class=\"sk-toggleable__control sk-hidden--visually\" id=\"sk-estimator-id-1\" type=\"checkbox\" ><label for=\"sk-estimator-id-1\" class=\"sk-toggleable__label sk-toggleable__label-arrow\">GridSearchCV</label><div class=\"sk-toggleable__content\"><pre>GridSearchCV(estimator=RandomForestClassifier(),\n",
       "             param_grid={&#x27;criterion&#x27;: [&#x27;gini&#x27;, &#x27;entropy&#x27;],\n",
       "                         &#x27;max_depth&#x27;: range(2, 10),\n",
       "                         &#x27;max_features&#x27;: [&#x27;auto&#x27;, &#x27;sqrt&#x27;, &#x27;log2&#x27;],\n",
       "                         &#x27;n_estimators&#x27;: [100, 200]})</pre></div></div></div><div class=\"sk-parallel\"><div class=\"sk-parallel-item\"><div class=\"sk-item\"><div class=\"sk-label-container\"><div class=\"sk-label sk-toggleable\"><input class=\"sk-toggleable__control sk-hidden--visually\" id=\"sk-estimator-id-2\" type=\"checkbox\" ><label for=\"sk-estimator-id-2\" class=\"sk-toggleable__label sk-toggleable__label-arrow\">estimator: RandomForestClassifier</label><div class=\"sk-toggleable__content\"><pre>RandomForestClassifier()</pre></div></div></div><div class=\"sk-serial\"><div class=\"sk-item\"><div class=\"sk-estimator sk-toggleable\"><input class=\"sk-toggleable__control sk-hidden--visually\" id=\"sk-estimator-id-3\" type=\"checkbox\" ><label for=\"sk-estimator-id-3\" class=\"sk-toggleable__label sk-toggleable__label-arrow\">RandomForestClassifier</label><div class=\"sk-toggleable__content\"><pre>RandomForestClassifier()</pre></div></div></div></div></div></div></div></div></div></div>"
      ],
      "text/plain": [
       "GridSearchCV(estimator=RandomForestClassifier(),\n",
       "             param_grid={'criterion': ['gini', 'entropy'],\n",
       "                         'max_depth': range(2, 10),\n",
       "                         'max_features': ['auto', 'sqrt', 'log2'],\n",
       "                         'n_estimators': [100, 200]})"
      ]
     },
     "execution_count": 147,
     "metadata": {},
     "output_type": "execute_result"
    }
   ],
   "source": [
    "gridsearch.fit(x_train,y_train)"
   ]
  },
  {
   "cell_type": "code",
   "execution_count": 148,
   "id": "f1e5dae2",
   "metadata": {},
   "outputs": [
    {
     "data": {
      "text/plain": [
       "{'criterion': 'entropy',\n",
       " 'max_depth': 9,\n",
       " 'max_features': 'auto',\n",
       " 'n_estimators': 100}"
      ]
     },
     "execution_count": 148,
     "metadata": {},
     "output_type": "execute_result"
    }
   ],
   "source": [
    "gridsearch.best_params_"
   ]
  },
  {
   "cell_type": "code",
   "execution_count": 149,
   "id": "08204e45",
   "metadata": {},
   "outputs": [
    {
     "name": "stdout",
     "output_type": "stream",
     "text": [
      "Accuracy Score : 92.38845144356955\n",
      "[[53  0  0  0  0  0  0  0]\n",
      " [ 5 40  0  1  4  1  0  0]\n",
      " [ 0  3 32  1  1  2  0  0]\n",
      " [ 0  4  0 38  1  3  0  0]\n",
      " [ 0  0  0  0 50  0  0  0]\n",
      " [ 0  0  1  1  1 51  0  0]\n",
      " [ 0  0  0  0  0  0 42  0]\n",
      " [ 0  0  0  0  0  0  0 46]]\n",
      "              precision    recall  f1-score   support\n",
      "\n",
      "           0       0.91      1.00      0.95        53\n",
      "           1       0.85      0.78      0.82        51\n",
      "           2       0.97      0.82      0.89        39\n",
      "           3       0.93      0.83      0.87        46\n",
      "           4       0.88      1.00      0.93        50\n",
      "           5       0.89      0.94      0.92        54\n",
      "           6       1.00      1.00      1.00        42\n",
      "           7       1.00      1.00      1.00        46\n",
      "\n",
      "    accuracy                           0.92       381\n",
      "   macro avg       0.93      0.92      0.92       381\n",
      "weighted avg       0.93      0.92      0.92       381\n",
      "\n"
     ]
    }
   ],
   "source": [
    "## Providing Best parameter to model:-\n",
    "rfc = RandomForestClassifier(criterion='entropy',n_estimators=100,max_features='auto',max_depth=9)\n",
    "rfc.fit(x_train,y_train)\n",
    "predrfc = rfc.predict(x_test)\n",
    "score = accuracy_score(y_test,predrfc)\n",
    "print(\"Accuracy Score :\",score*100)\n",
    "print(confusion_matrix(y_test, predrfc))\n",
    "print(classification_report(y_test,predrfc))"
   ]
  },
  {
   "cell_type": "markdown",
   "id": "da3f6f7e",
   "metadata": {},
   "source": [
    "# Saving the model"
   ]
  },
  {
   "cell_type": "code",
   "execution_count": 150,
   "id": "4b0dfd74",
   "metadata": {},
   "outputs": [
    {
     "data": {
      "text/plain": [
       "['Classification_GlobalPowerPlant.pkl']"
      ]
     },
     "execution_count": 150,
     "metadata": {},
     "output_type": "execute_result"
    }
   ],
   "source": [
    "joblib.dump(rfc,\"Classification_GlobalPowerPlant.pkl\")"
   ]
  },
  {
   "cell_type": "markdown",
   "id": "e249406a",
   "metadata": {},
   "source": [
    "# Regression"
   ]
  },
  {
   "cell_type": "markdown",
   "id": "86168747",
   "metadata": {},
   "source": [
    "### Splitting the dataset into 2 variables namely 'X' and 'Y' for feature and regression label"
   ]
  },
  {
   "cell_type": "code",
   "execution_count": 151,
   "id": "94b92d79",
   "metadata": {},
   "outputs": [],
   "source": [
    "X = new_df.drop('capacity_mw', axis=1)\n",
    "Y = new_df['capacity_mw']"
   ]
  },
  {
   "cell_type": "markdown",
   "id": "a3fd14f9",
   "metadata": {},
   "source": [
    "### Scaling"
   ]
  },
  {
   "cell_type": "code",
   "execution_count": 154,
   "id": "d86579fb",
   "metadata": {},
   "outputs": [],
   "source": [
    "sc=StandardScaler()\n",
    "scale_x=sc.fit_transform(X)\n",
    "X=pd.DataFrame(scale_x,columns=X.columns)"
   ]
  },
  {
   "cell_type": "code",
   "execution_count": 155,
   "id": "39374695",
   "metadata": {},
   "outputs": [
    {
     "data": {
      "text/html": [
       "<div>\n",
       "<style scoped>\n",
       "    .dataframe tbody tr th:only-of-type {\n",
       "        vertical-align: middle;\n",
       "    }\n",
       "\n",
       "    .dataframe tbody tr th {\n",
       "        vertical-align: top;\n",
       "    }\n",
       "\n",
       "    .dataframe thead th {\n",
       "        text-align: right;\n",
       "    }\n",
       "</style>\n",
       "<table border=\"1\" class=\"dataframe\">\n",
       "  <thead>\n",
       "    <tr style=\"text-align: right;\">\n",
       "      <th></th>\n",
       "      <th>latitude</th>\n",
       "      <th>longitude</th>\n",
       "      <th>primary_fuel</th>\n",
       "      <th>commissioning_year</th>\n",
       "      <th>source</th>\n",
       "      <th>geolocation_source</th>\n",
       "    </tr>\n",
       "  </thead>\n",
       "  <tbody>\n",
       "    <tr>\n",
       "      <th>0</th>\n",
       "      <td>1.159148</td>\n",
       "      <td>-0.931766</td>\n",
       "      <td>1.177139</td>\n",
       "      <td>0.312870</td>\n",
       "      <td>1.400361</td>\n",
       "      <td>-1.038494</td>\n",
       "    </tr>\n",
       "    <tr>\n",
       "      <th>1</th>\n",
       "      <td>0.599925</td>\n",
       "      <td>-0.513337</td>\n",
       "      <td>-0.976657</td>\n",
       "      <td>0.722763</td>\n",
       "      <td>2.825448</td>\n",
       "      <td>0.406588</td>\n",
       "    </tr>\n",
       "    <tr>\n",
       "      <th>2</th>\n",
       "      <td>0.131533</td>\n",
       "      <td>-2.364539</td>\n",
       "      <td>1.607898</td>\n",
       "      <td>0.722763</td>\n",
       "      <td>-0.528988</td>\n",
       "      <td>0.406588</td>\n",
       "    </tr>\n",
       "    <tr>\n",
       "      <th>3</th>\n",
       "      <td>0.453460</td>\n",
       "      <td>2.443713</td>\n",
       "      <td>-0.545898</td>\n",
       "      <td>-0.320264</td>\n",
       "      <td>-0.507063</td>\n",
       "      <td>0.406588</td>\n",
       "    </tr>\n",
       "    <tr>\n",
       "      <th>4</th>\n",
       "      <td>0.140779</td>\n",
       "      <td>1.251046</td>\n",
       "      <td>-0.976657</td>\n",
       "      <td>0.722763</td>\n",
       "      <td>-0.507063</td>\n",
       "      <td>0.406588</td>\n",
       "    </tr>\n",
       "  </tbody>\n",
       "</table>\n",
       "</div>"
      ],
      "text/plain": [
       "   latitude  longitude  primary_fuel  commissioning_year    source  \\\n",
       "0  1.159148  -0.931766      1.177139            0.312870  1.400361   \n",
       "1  0.599925  -0.513337     -0.976657            0.722763  2.825448   \n",
       "2  0.131533  -2.364539      1.607898            0.722763 -0.528988   \n",
       "3  0.453460   2.443713     -0.545898           -0.320264 -0.507063   \n",
       "4  0.140779   1.251046     -0.976657            0.722763 -0.507063   \n",
       "\n",
       "   geolocation_source  \n",
       "0           -1.038494  \n",
       "1            0.406588  \n",
       "2            0.406588  \n",
       "3            0.406588  \n",
       "4            0.406588  "
      ]
     },
     "execution_count": 155,
     "metadata": {},
     "output_type": "execute_result"
    }
   ],
   "source": [
    "X.head()"
   ]
  },
  {
   "cell_type": "markdown",
   "id": "226c90b8",
   "metadata": {},
   "source": [
    "### Train test splitting and Model training"
   ]
  },
  {
   "cell_type": "code",
   "execution_count": 157,
   "id": "2b8d303f",
   "metadata": {},
   "outputs": [
    {
     "name": "stdout",
     "output_type": "stream",
     "text": [
      "Best R2 score is 0.5416314243512412 on Random State 326\n"
     ]
    }
   ],
   "source": [
    "maxAccu=0\n",
    "maxRS=0\n",
    "\n",
    "for i in range(1, 1000):\n",
    "    X_train, X_test, Y_train, Y_test = train_test_split(X, Y, test_size=0.25, random_state=i)\n",
    "    lr=LinearRegression()\n",
    "    lr.fit(X_train, Y_train)\n",
    "    pred = lr.predict(X_test)\n",
    "    r2 = r2_score(Y_test, pred)\n",
    "    \n",
    "    if r2>maxAccu:\n",
    "        maxAccu=r2\n",
    "        maxRS=i\n",
    "\n",
    "print(\"Best R2 score is\", maxAccu,\"on Random State\", maxRS)"
   ]
  },
  {
   "cell_type": "code",
   "execution_count": 159,
   "id": "ad5735b2",
   "metadata": {},
   "outputs": [],
   "source": [
    "x_train,x_test,y_train,y_test=train_test_split(X,Y,test_size=0.25,random_state=326)"
   ]
  },
  {
   "cell_type": "markdown",
   "id": "34ba1435",
   "metadata": {},
   "source": [
    "### LinearRegression"
   ]
  },
  {
   "cell_type": "code",
   "execution_count": 160,
   "id": "1fd36779",
   "metadata": {},
   "outputs": [
    {
     "data": {
      "text/plain": [
       "0.5416314243512412"
      ]
     },
     "execution_count": 160,
     "metadata": {},
     "output_type": "execute_result"
    }
   ],
   "source": [
    "lr = LinearRegression()\n",
    "lr.fit(x_train,y_train)\n",
    "pred_test = lr.predict(x_test)\n",
    "acc = r2_score(y_test,pred_test)\n",
    "\n",
    "acc"
   ]
  },
  {
   "cell_type": "markdown",
   "id": "cae9838e",
   "metadata": {},
   "source": [
    "### Random Forest Regression"
   ]
  },
  {
   "cell_type": "code",
   "execution_count": 161,
   "id": "576f921e",
   "metadata": {},
   "outputs": [
    {
     "data": {
      "text/plain": [
       "0.6870334026551078"
      ]
     },
     "execution_count": 161,
     "metadata": {},
     "output_type": "execute_result"
    }
   ],
   "source": [
    "rf = RandomForestRegressor()\n",
    "rf.fit(x_train,y_train)\n",
    "pred_test = rf.predict(x_test)\n",
    "acc = r2_score(y_test,pred_test)\n",
    "\n",
    "acc"
   ]
  },
  {
   "cell_type": "markdown",
   "id": "144b1d80",
   "metadata": {},
   "source": [
    "### KNN Regressor"
   ]
  },
  {
   "cell_type": "code",
   "execution_count": 162,
   "id": "c39c7eae",
   "metadata": {},
   "outputs": [
    {
     "data": {
      "text/plain": [
       "0.6233504517375589"
      ]
     },
     "execution_count": 162,
     "metadata": {},
     "output_type": "execute_result"
    }
   ],
   "source": [
    "knr = KNeighborsRegressor()\n",
    "knr.fit(x_train,y_train)\n",
    "pred_test = knr.predict(x_test)\n",
    "acc = r2_score(y_test,pred_test)\n",
    "\n",
    "acc"
   ]
  },
  {
   "cell_type": "markdown",
   "id": "4b571b94",
   "metadata": {},
   "source": [
    "### Xgboost Regressor"
   ]
  },
  {
   "cell_type": "code",
   "execution_count": 163,
   "id": "ba9b54f2",
   "metadata": {},
   "outputs": [
    {
     "data": {
      "text/plain": [
       "0.6268292112993186"
      ]
     },
     "execution_count": 163,
     "metadata": {},
     "output_type": "execute_result"
    }
   ],
   "source": [
    "xgr = XGBRegressor()\n",
    "xgr.fit(x_train,y_train)\n",
    "preddtc = xgr.predict(x_test)\n",
    "acc = r2_score(y_test,preddtc)\n",
    "acc"
   ]
  },
  {
   "cell_type": "markdown",
   "id": "0d66333b",
   "metadata": {},
   "source": [
    "### Decision Tree Regressor"
   ]
  },
  {
   "cell_type": "code",
   "execution_count": 170,
   "id": "2c1d7e80",
   "metadata": {},
   "outputs": [
    {
     "data": {
      "text/plain": [
       "0.43985511919933007"
      ]
     },
     "execution_count": 170,
     "metadata": {},
     "output_type": "execute_result"
    }
   ],
   "source": [
    "dtr = DecisionTreeRegressor()\n",
    "dtr.fit(x_train,y_train)\n",
    "pred_test = dtr.predict(x_test)\n",
    "acc = r2_score(y_test,pred_test)\n",
    "\n",
    "acc"
   ]
  },
  {
   "cell_type": "markdown",
   "id": "ca964b29",
   "metadata": {},
   "source": [
    "### Cross Validation"
   ]
  },
  {
   "cell_type": "code",
   "execution_count": 166,
   "id": "00725c8d",
   "metadata": {},
   "outputs": [
    {
     "name": "stdout",
     "output_type": "stream",
     "text": [
      "Cross Validation of Linear Regression model  0.4193275633144099\n"
     ]
    }
   ],
   "source": [
    "cvs1= cross_val_score(lr,X,Y,cv=5)\n",
    "print(\"Cross Validation of Linear Regression model \",cvs1.mean())"
   ]
  },
  {
   "cell_type": "code",
   "execution_count": 167,
   "id": "caf68064",
   "metadata": {},
   "outputs": [
    {
     "name": "stdout",
     "output_type": "stream",
     "text": [
      "Cross Validation of RandomForest Regression model  0.6110316688436639\n"
     ]
    }
   ],
   "source": [
    "cvs2= cross_val_score(rf,X,Y,cv=5)\n",
    "print(\"Cross Validation of RandomForest Regression model \",cvs2.mean())"
   ]
  },
  {
   "cell_type": "code",
   "execution_count": 168,
   "id": "2b2f0ff1",
   "metadata": {},
   "outputs": [
    {
     "name": "stdout",
     "output_type": "stream",
     "text": [
      "Cross Validation of KNeighbors Regression model  0.537914149194425\n"
     ]
    }
   ],
   "source": [
    "cvs3= cross_val_score(knr,X,Y,cv=5)\n",
    "print(\"Cross Validation of KNeighbors Regression model \",cvs3.mean())"
   ]
  },
  {
   "cell_type": "code",
   "execution_count": 171,
   "id": "e436d0bf",
   "metadata": {},
   "outputs": [
    {
     "name": "stdout",
     "output_type": "stream",
     "text": [
      "Cross Validation of DecisionTree Regression model  0.32429035790579486\n"
     ]
    }
   ],
   "source": [
    "cvs4= cross_val_score(dtr,X,Y,cv=5)\n",
    "print(\"Cross Validation of DecisionTree Regression model \",cvs4.mean())"
   ]
  },
  {
   "cell_type": "code",
   "execution_count": 173,
   "id": "7a480e81",
   "metadata": {},
   "outputs": [
    {
     "name": "stdout",
     "output_type": "stream",
     "text": [
      "Cross Validation of XGboost Regression model  0.5629535293437229\n"
     ]
    }
   ],
   "source": [
    "cvs5= cross_val_score(xgr,X,Y,cv=5)\n",
    "print(\"Cross Validation of XGboost Regression model \",cvs5.mean())"
   ]
  },
  {
   "cell_type": "markdown",
   "id": "25c6450f",
   "metadata": {},
   "source": [
    "Random forest is giving best cv score"
   ]
  },
  {
   "cell_type": "markdown",
   "id": "49859689",
   "metadata": {},
   "source": [
    "# Hyper Parameter Tuning for Random Forest Regressor"
   ]
  },
  {
   "cell_type": "code",
   "execution_count": 181,
   "id": "472aa4d0",
   "metadata": {},
   "outputs": [],
   "source": [
    "param_grid={'criterion' : ['mse', 'mae'],\n",
    "              'n_estimators' : [100, 200],\n",
    "              'min_samples_split' : [2, 3],\n",
    "              'random_state' : [42, 135],\n",
    "              'n_jobs' : [-1, 1]\n",
    "             }"
   ]
  },
  {
   "cell_type": "code",
   "execution_count": 182,
   "id": "1f8ec1d0",
   "metadata": {},
   "outputs": [],
   "source": [
    "rf_grid=GridSearchCV(estimator=rf,param_grid=param_grid,cv=5,verbose=5)"
   ]
  },
  {
   "cell_type": "code",
   "execution_count": 183,
   "id": "f74aecda",
   "metadata": {},
   "outputs": [
    {
     "name": "stdout",
     "output_type": "stream",
     "text": [
      "Fitting 5 folds for each of 32 candidates, totalling 160 fits\n",
      "[CV 1/5] END criterion=mse, min_samples_split=2, n_estimators=100, n_jobs=-1, random_state=42;, score=0.659 total time=   0.3s\n",
      "[CV 2/5] END criterion=mse, min_samples_split=2, n_estimators=100, n_jobs=-1, random_state=42;, score=0.513 total time=   0.2s\n",
      "[CV 3/5] END criterion=mse, min_samples_split=2, n_estimators=100, n_jobs=-1, random_state=42;, score=0.664 total time=   0.2s\n",
      "[CV 4/5] END criterion=mse, min_samples_split=2, n_estimators=100, n_jobs=-1, random_state=42;, score=0.600 total time=   0.3s\n",
      "[CV 5/5] END criterion=mse, min_samples_split=2, n_estimators=100, n_jobs=-1, random_state=42;, score=0.502 total time=   0.5s\n",
      "[CV 1/5] END criterion=mse, min_samples_split=2, n_estimators=100, n_jobs=-1, random_state=135;, score=0.676 total time=   0.2s\n",
      "[CV 2/5] END criterion=mse, min_samples_split=2, n_estimators=100, n_jobs=-1, random_state=135;, score=0.506 total time=   0.2s\n",
      "[CV 3/5] END criterion=mse, min_samples_split=2, n_estimators=100, n_jobs=-1, random_state=135;, score=0.663 total time=   0.2s\n",
      "[CV 4/5] END criterion=mse, min_samples_split=2, n_estimators=100, n_jobs=-1, random_state=135;, score=0.601 total time=   0.2s\n",
      "[CV 5/5] END criterion=mse, min_samples_split=2, n_estimators=100, n_jobs=-1, random_state=135;, score=0.498 total time=   0.2s\n",
      "[CV 1/5] END criterion=mse, min_samples_split=2, n_estimators=100, n_jobs=1, random_state=42;, score=0.659 total time=   0.3s\n",
      "[CV 2/5] END criterion=mse, min_samples_split=2, n_estimators=100, n_jobs=1, random_state=42;, score=0.513 total time=   0.3s\n",
      "[CV 3/5] END criterion=mse, min_samples_split=2, n_estimators=100, n_jobs=1, random_state=42;, score=0.664 total time=   0.3s\n",
      "[CV 4/5] END criterion=mse, min_samples_split=2, n_estimators=100, n_jobs=1, random_state=42;, score=0.600 total time=   0.4s\n",
      "[CV 5/5] END criterion=mse, min_samples_split=2, n_estimators=100, n_jobs=1, random_state=42;, score=0.502 total time=   0.2s\n",
      "[CV 1/5] END criterion=mse, min_samples_split=2, n_estimators=100, n_jobs=1, random_state=135;, score=0.676 total time=   0.3s\n",
      "[CV 2/5] END criterion=mse, min_samples_split=2, n_estimators=100, n_jobs=1, random_state=135;, score=0.506 total time=   0.4s\n",
      "[CV 3/5] END criterion=mse, min_samples_split=2, n_estimators=100, n_jobs=1, random_state=135;, score=0.663 total time=   0.3s\n",
      "[CV 4/5] END criterion=mse, min_samples_split=2, n_estimators=100, n_jobs=1, random_state=135;, score=0.601 total time=   0.3s\n",
      "[CV 5/5] END criterion=mse, min_samples_split=2, n_estimators=100, n_jobs=1, random_state=135;, score=0.498 total time=   0.3s\n",
      "[CV 1/5] END criterion=mse, min_samples_split=2, n_estimators=200, n_jobs=-1, random_state=42;, score=0.662 total time=   0.4s\n",
      "[CV 2/5] END criterion=mse, min_samples_split=2, n_estimators=200, n_jobs=-1, random_state=42;, score=0.518 total time=   0.4s\n",
      "[CV 3/5] END criterion=mse, min_samples_split=2, n_estimators=200, n_jobs=-1, random_state=42;, score=0.665 total time=   0.4s\n",
      "[CV 4/5] END criterion=mse, min_samples_split=2, n_estimators=200, n_jobs=-1, random_state=42;, score=0.608 total time=   2.6s\n",
      "[CV 5/5] END criterion=mse, min_samples_split=2, n_estimators=200, n_jobs=-1, random_state=42;, score=0.508 total time=   0.4s\n",
      "[CV 1/5] END criterion=mse, min_samples_split=2, n_estimators=200, n_jobs=-1, random_state=135;, score=0.670 total time=   0.4s\n",
      "[CV 2/5] END criterion=mse, min_samples_split=2, n_estimators=200, n_jobs=-1, random_state=135;, score=0.514 total time=   0.4s\n",
      "[CV 3/5] END criterion=mse, min_samples_split=2, n_estimators=200, n_jobs=-1, random_state=135;, score=0.664 total time=   0.4s\n",
      "[CV 4/5] END criterion=mse, min_samples_split=2, n_estimators=200, n_jobs=-1, random_state=135;, score=0.600 total time=   0.5s\n",
      "[CV 5/5] END criterion=mse, min_samples_split=2, n_estimators=200, n_jobs=-1, random_state=135;, score=0.503 total time=   0.4s\n",
      "[CV 1/5] END criterion=mse, min_samples_split=2, n_estimators=200, n_jobs=1, random_state=42;, score=0.662 total time=   0.6s\n",
      "[CV 2/5] END criterion=mse, min_samples_split=2, n_estimators=200, n_jobs=1, random_state=42;, score=0.518 total time=   0.6s\n",
      "[CV 3/5] END criterion=mse, min_samples_split=2, n_estimators=200, n_jobs=1, random_state=42;, score=0.665 total time=   0.6s\n",
      "[CV 4/5] END criterion=mse, min_samples_split=2, n_estimators=200, n_jobs=1, random_state=42;, score=0.608 total time=   0.8s\n",
      "[CV 5/5] END criterion=mse, min_samples_split=2, n_estimators=200, n_jobs=1, random_state=42;, score=0.508 total time=   0.9s\n",
      "[CV 1/5] END criterion=mse, min_samples_split=2, n_estimators=200, n_jobs=1, random_state=135;, score=0.670 total time=   0.6s\n",
      "[CV 2/5] END criterion=mse, min_samples_split=2, n_estimators=200, n_jobs=1, random_state=135;, score=0.514 total time=   0.6s\n",
      "[CV 3/5] END criterion=mse, min_samples_split=2, n_estimators=200, n_jobs=1, random_state=135;, score=0.664 total time=   0.6s\n",
      "[CV 4/5] END criterion=mse, min_samples_split=2, n_estimators=200, n_jobs=1, random_state=135;, score=0.600 total time=   0.6s\n",
      "[CV 5/5] END criterion=mse, min_samples_split=2, n_estimators=200, n_jobs=1, random_state=135;, score=0.503 total time=   0.6s\n",
      "[CV 1/5] END criterion=mse, min_samples_split=3, n_estimators=100, n_jobs=-1, random_state=42;, score=0.660 total time=   0.2s\n",
      "[CV 2/5] END criterion=mse, min_samples_split=3, n_estimators=100, n_jobs=-1, random_state=42;, score=0.510 total time=   0.2s\n",
      "[CV 3/5] END criterion=mse, min_samples_split=3, n_estimators=100, n_jobs=-1, random_state=42;, score=0.661 total time=   0.2s\n",
      "[CV 4/5] END criterion=mse, min_samples_split=3, n_estimators=100, n_jobs=-1, random_state=42;, score=0.603 total time=   0.2s\n",
      "[CV 5/5] END criterion=mse, min_samples_split=3, n_estimators=100, n_jobs=-1, random_state=42;, score=0.504 total time=   0.2s\n",
      "[CV 1/5] END criterion=mse, min_samples_split=3, n_estimators=100, n_jobs=-1, random_state=135;, score=0.678 total time=   0.2s\n",
      "[CV 2/5] END criterion=mse, min_samples_split=3, n_estimators=100, n_jobs=-1, random_state=135;, score=0.513 total time=   0.2s\n",
      "[CV 3/5] END criterion=mse, min_samples_split=3, n_estimators=100, n_jobs=-1, random_state=135;, score=0.667 total time=   0.2s\n",
      "[CV 4/5] END criterion=mse, min_samples_split=3, n_estimators=100, n_jobs=-1, random_state=135;, score=0.601 total time=   0.2s\n",
      "[CV 5/5] END criterion=mse, min_samples_split=3, n_estimators=100, n_jobs=-1, random_state=135;, score=0.493 total time=   0.2s\n",
      "[CV 1/5] END criterion=mse, min_samples_split=3, n_estimators=100, n_jobs=1, random_state=42;, score=0.660 total time=   0.4s\n",
      "[CV 2/5] END criterion=mse, min_samples_split=3, n_estimators=100, n_jobs=1, random_state=42;, score=0.510 total time=   0.4s\n",
      "[CV 3/5] END criterion=mse, min_samples_split=3, n_estimators=100, n_jobs=1, random_state=42;, score=0.661 total time=   0.3s\n",
      "[CV 4/5] END criterion=mse, min_samples_split=3, n_estimators=100, n_jobs=1, random_state=42;, score=0.603 total time=   0.2s\n",
      "[CV 5/5] END criterion=mse, min_samples_split=3, n_estimators=100, n_jobs=1, random_state=42;, score=0.504 total time=   0.2s\n",
      "[CV 1/5] END criterion=mse, min_samples_split=3, n_estimators=100, n_jobs=1, random_state=135;, score=0.678 total time=   0.3s\n",
      "[CV 2/5] END criterion=mse, min_samples_split=3, n_estimators=100, n_jobs=1, random_state=135;, score=0.513 total time=   0.2s\n",
      "[CV 3/5] END criterion=mse, min_samples_split=3, n_estimators=100, n_jobs=1, random_state=135;, score=0.667 total time=   0.3s\n",
      "[CV 4/5] END criterion=mse, min_samples_split=3, n_estimators=100, n_jobs=1, random_state=135;, score=0.601 total time=   0.3s\n",
      "[CV 5/5] END criterion=mse, min_samples_split=3, n_estimators=100, n_jobs=1, random_state=135;, score=0.493 total time=   0.3s\n",
      "[CV 1/5] END criterion=mse, min_samples_split=3, n_estimators=200, n_jobs=-1, random_state=42;, score=0.662 total time=   0.4s\n",
      "[CV 2/5] END criterion=mse, min_samples_split=3, n_estimators=200, n_jobs=-1, random_state=42;, score=0.518 total time=   0.4s\n",
      "[CV 3/5] END criterion=mse, min_samples_split=3, n_estimators=200, n_jobs=-1, random_state=42;, score=0.665 total time=   0.4s\n",
      "[CV 4/5] END criterion=mse, min_samples_split=3, n_estimators=200, n_jobs=-1, random_state=42;, score=0.608 total time=   0.4s\n",
      "[CV 5/5] END criterion=mse, min_samples_split=3, n_estimators=200, n_jobs=-1, random_state=42;, score=0.508 total time=   0.4s\n"
     ]
    },
    {
     "name": "stdout",
     "output_type": "stream",
     "text": [
      "[CV 1/5] END criterion=mse, min_samples_split=3, n_estimators=200, n_jobs=-1, random_state=135;, score=0.673 total time=   0.4s\n",
      "[CV 2/5] END criterion=mse, min_samples_split=3, n_estimators=200, n_jobs=-1, random_state=135;, score=0.519 total time=   0.4s\n",
      "[CV 3/5] END criterion=mse, min_samples_split=3, n_estimators=200, n_jobs=-1, random_state=135;, score=0.668 total time=   0.4s\n",
      "[CV 4/5] END criterion=mse, min_samples_split=3, n_estimators=200, n_jobs=-1, random_state=135;, score=0.600 total time=   0.4s\n",
      "[CV 5/5] END criterion=mse, min_samples_split=3, n_estimators=200, n_jobs=-1, random_state=135;, score=0.501 total time=   0.5s\n",
      "[CV 1/5] END criterion=mse, min_samples_split=3, n_estimators=200, n_jobs=1, random_state=42;, score=0.662 total time=   0.6s\n",
      "[CV 2/5] END criterion=mse, min_samples_split=3, n_estimators=200, n_jobs=1, random_state=42;, score=0.518 total time=   0.5s\n",
      "[CV 3/5] END criterion=mse, min_samples_split=3, n_estimators=200, n_jobs=1, random_state=42;, score=0.665 total time=   0.7s\n",
      "[CV 4/5] END criterion=mse, min_samples_split=3, n_estimators=200, n_jobs=1, random_state=42;, score=0.608 total time=   0.7s\n",
      "[CV 5/5] END criterion=mse, min_samples_split=3, n_estimators=200, n_jobs=1, random_state=42;, score=0.508 total time=   0.6s\n",
      "[CV 1/5] END criterion=mse, min_samples_split=3, n_estimators=200, n_jobs=1, random_state=135;, score=0.673 total time=   0.6s\n",
      "[CV 2/5] END criterion=mse, min_samples_split=3, n_estimators=200, n_jobs=1, random_state=135;, score=0.519 total time=   0.6s\n",
      "[CV 3/5] END criterion=mse, min_samples_split=3, n_estimators=200, n_jobs=1, random_state=135;, score=0.668 total time=   0.6s\n",
      "[CV 4/5] END criterion=mse, min_samples_split=3, n_estimators=200, n_jobs=1, random_state=135;, score=0.600 total time=   0.6s\n",
      "[CV 5/5] END criterion=mse, min_samples_split=3, n_estimators=200, n_jobs=1, random_state=135;, score=0.501 total time=   0.6s\n",
      "[CV 1/5] END criterion=mae, min_samples_split=2, n_estimators=100, n_jobs=-1, random_state=42;, score=0.652 total time=   0.3s\n",
      "[CV 2/5] END criterion=mae, min_samples_split=2, n_estimators=100, n_jobs=-1, random_state=42;, score=0.462 total time=   0.3s\n",
      "[CV 3/5] END criterion=mae, min_samples_split=2, n_estimators=100, n_jobs=-1, random_state=42;, score=0.654 total time=   0.3s\n",
      "[CV 4/5] END criterion=mae, min_samples_split=2, n_estimators=100, n_jobs=-1, random_state=42;, score=0.573 total time=   0.3s\n",
      "[CV 5/5] END criterion=mae, min_samples_split=2, n_estimators=100, n_jobs=-1, random_state=42;, score=0.492 total time=   0.3s\n",
      "[CV 1/5] END criterion=mae, min_samples_split=2, n_estimators=100, n_jobs=-1, random_state=135;, score=0.652 total time=   0.3s\n",
      "[CV 2/5] END criterion=mae, min_samples_split=2, n_estimators=100, n_jobs=-1, random_state=135;, score=0.485 total time=   0.3s\n",
      "[CV 3/5] END criterion=mae, min_samples_split=2, n_estimators=100, n_jobs=-1, random_state=135;, score=0.678 total time=   0.3s\n",
      "[CV 4/5] END criterion=mae, min_samples_split=2, n_estimators=100, n_jobs=-1, random_state=135;, score=0.561 total time=   0.3s\n",
      "[CV 5/5] END criterion=mae, min_samples_split=2, n_estimators=100, n_jobs=-1, random_state=135;, score=0.506 total time=   0.3s\n",
      "[CV 1/5] END criterion=mae, min_samples_split=2, n_estimators=100, n_jobs=1, random_state=42;, score=0.652 total time=   1.2s\n",
      "[CV 2/5] END criterion=mae, min_samples_split=2, n_estimators=100, n_jobs=1, random_state=42;, score=0.462 total time=   1.4s\n",
      "[CV 3/5] END criterion=mae, min_samples_split=2, n_estimators=100, n_jobs=1, random_state=42;, score=0.654 total time=   1.2s\n",
      "[CV 4/5] END criterion=mae, min_samples_split=2, n_estimators=100, n_jobs=1, random_state=42;, score=0.573 total time=   1.3s\n",
      "[CV 5/5] END criterion=mae, min_samples_split=2, n_estimators=100, n_jobs=1, random_state=42;, score=0.492 total time=   1.3s\n",
      "[CV 1/5] END criterion=mae, min_samples_split=2, n_estimators=100, n_jobs=1, random_state=135;, score=0.652 total time=   1.2s\n",
      "[CV 2/5] END criterion=mae, min_samples_split=2, n_estimators=100, n_jobs=1, random_state=135;, score=0.485 total time=   1.4s\n",
      "[CV 3/5] END criterion=mae, min_samples_split=2, n_estimators=100, n_jobs=1, random_state=135;, score=0.678 total time=   1.6s\n",
      "[CV 4/5] END criterion=mae, min_samples_split=2, n_estimators=100, n_jobs=1, random_state=135;, score=0.561 total time=   1.3s\n",
      "[CV 5/5] END criterion=mae, min_samples_split=2, n_estimators=100, n_jobs=1, random_state=135;, score=0.506 total time=   1.4s\n",
      "[CV 1/5] END criterion=mae, min_samples_split=2, n_estimators=200, n_jobs=-1, random_state=42;, score=0.656 total time=   0.7s\n",
      "[CV 2/5] END criterion=mae, min_samples_split=2, n_estimators=200, n_jobs=-1, random_state=42;, score=0.469 total time=   0.7s\n",
      "[CV 3/5] END criterion=mae, min_samples_split=2, n_estimators=200, n_jobs=-1, random_state=42;, score=0.658 total time=   0.6s\n",
      "[CV 4/5] END criterion=mae, min_samples_split=2, n_estimators=200, n_jobs=-1, random_state=42;, score=0.568 total time=   0.6s\n",
      "[CV 5/5] END criterion=mae, min_samples_split=2, n_estimators=200, n_jobs=-1, random_state=42;, score=0.503 total time=   0.7s\n",
      "[CV 1/5] END criterion=mae, min_samples_split=2, n_estimators=200, n_jobs=-1, random_state=135;, score=0.650 total time=   0.7s\n",
      "[CV 2/5] END criterion=mae, min_samples_split=2, n_estimators=200, n_jobs=-1, random_state=135;, score=0.488 total time=   0.7s\n",
      "[CV 3/5] END criterion=mae, min_samples_split=2, n_estimators=200, n_jobs=-1, random_state=135;, score=0.676 total time=   0.7s\n",
      "[CV 4/5] END criterion=mae, min_samples_split=2, n_estimators=200, n_jobs=-1, random_state=135;, score=0.564 total time=   0.6s\n",
      "[CV 5/5] END criterion=mae, min_samples_split=2, n_estimators=200, n_jobs=-1, random_state=135;, score=0.500 total time=   0.7s\n",
      "[CV 1/5] END criterion=mae, min_samples_split=2, n_estimators=200, n_jobs=1, random_state=42;, score=0.656 total time=   3.0s\n",
      "[CV 2/5] END criterion=mae, min_samples_split=2, n_estimators=200, n_jobs=1, random_state=42;, score=0.469 total time=   2.8s\n",
      "[CV 3/5] END criterion=mae, min_samples_split=2, n_estimators=200, n_jobs=1, random_state=42;, score=0.658 total time=   3.0s\n",
      "[CV 4/5] END criterion=mae, min_samples_split=2, n_estimators=200, n_jobs=1, random_state=42;, score=0.568 total time=   2.9s\n",
      "[CV 5/5] END criterion=mae, min_samples_split=2, n_estimators=200, n_jobs=1, random_state=42;, score=0.503 total time=   2.7s\n",
      "[CV 1/5] END criterion=mae, min_samples_split=2, n_estimators=200, n_jobs=1, random_state=135;, score=0.650 total time=   2.5s\n",
      "[CV 2/5] END criterion=mae, min_samples_split=2, n_estimators=200, n_jobs=1, random_state=135;, score=0.488 total time=   2.8s\n",
      "[CV 3/5] END criterion=mae, min_samples_split=2, n_estimators=200, n_jobs=1, random_state=135;, score=0.676 total time=   3.0s\n",
      "[CV 4/5] END criterion=mae, min_samples_split=2, n_estimators=200, n_jobs=1, random_state=135;, score=0.564 total time=   3.1s\n",
      "[CV 5/5] END criterion=mae, min_samples_split=2, n_estimators=200, n_jobs=1, random_state=135;, score=0.500 total time=   2.9s\n",
      "[CV 1/5] END criterion=mae, min_samples_split=3, n_estimators=100, n_jobs=-1, random_state=42;, score=0.654 total time=   0.3s\n",
      "[CV 2/5] END criterion=mae, min_samples_split=3, n_estimators=100, n_jobs=-1, random_state=42;, score=0.453 total time=   0.3s\n",
      "[CV 3/5] END criterion=mae, min_samples_split=3, n_estimators=100, n_jobs=-1, random_state=42;, score=0.654 total time=   0.3s\n",
      "[CV 4/5] END criterion=mae, min_samples_split=3, n_estimators=100, n_jobs=-1, random_state=42;, score=0.559 total time=   0.3s\n",
      "[CV 5/5] END criterion=mae, min_samples_split=3, n_estimators=100, n_jobs=-1, random_state=42;, score=0.498 total time=   0.3s\n",
      "[CV 1/5] END criterion=mae, min_samples_split=3, n_estimators=100, n_jobs=-1, random_state=135;, score=0.662 total time=   0.3s\n",
      "[CV 2/5] END criterion=mae, min_samples_split=3, n_estimators=100, n_jobs=-1, random_state=135;, score=0.488 total time=   0.4s\n",
      "[CV 3/5] END criterion=mae, min_samples_split=3, n_estimators=100, n_jobs=-1, random_state=135;, score=0.676 total time=   0.3s\n",
      "[CV 4/5] END criterion=mae, min_samples_split=3, n_estimators=100, n_jobs=-1, random_state=135;, score=0.557 total time=   0.3s\n",
      "[CV 5/5] END criterion=mae, min_samples_split=3, n_estimators=100, n_jobs=-1, random_state=135;, score=0.507 total time=   0.4s\n"
     ]
    },
    {
     "name": "stdout",
     "output_type": "stream",
     "text": [
      "[CV 1/5] END criterion=mae, min_samples_split=3, n_estimators=100, n_jobs=1, random_state=42;, score=0.654 total time=   1.3s\n",
      "[CV 2/5] END criterion=mae, min_samples_split=3, n_estimators=100, n_jobs=1, random_state=42;, score=0.453 total time=   1.6s\n",
      "[CV 3/5] END criterion=mae, min_samples_split=3, n_estimators=100, n_jobs=1, random_state=42;, score=0.654 total time=   1.2s\n",
      "[CV 4/5] END criterion=mae, min_samples_split=3, n_estimators=100, n_jobs=1, random_state=42;, score=0.559 total time=   1.2s\n",
      "[CV 5/5] END criterion=mae, min_samples_split=3, n_estimators=100, n_jobs=1, random_state=42;, score=0.498 total time=   1.5s\n",
      "[CV 1/5] END criterion=mae, min_samples_split=3, n_estimators=100, n_jobs=1, random_state=135;, score=0.662 total time=   1.1s\n",
      "[CV 2/5] END criterion=mae, min_samples_split=3, n_estimators=100, n_jobs=1, random_state=135;, score=0.488 total time=   1.2s\n",
      "[CV 3/5] END criterion=mae, min_samples_split=3, n_estimators=100, n_jobs=1, random_state=135;, score=0.676 total time=   1.3s\n",
      "[CV 4/5] END criterion=mae, min_samples_split=3, n_estimators=100, n_jobs=1, random_state=135;, score=0.557 total time=   1.3s\n",
      "[CV 5/5] END criterion=mae, min_samples_split=3, n_estimators=100, n_jobs=1, random_state=135;, score=0.507 total time=   1.4s\n",
      "[CV 1/5] END criterion=mae, min_samples_split=3, n_estimators=200, n_jobs=-1, random_state=42;, score=0.660 total time=   1.1s\n",
      "[CV 2/5] END criterion=mae, min_samples_split=3, n_estimators=200, n_jobs=-1, random_state=42;, score=0.468 total time=   0.9s\n",
      "[CV 3/5] END criterion=mae, min_samples_split=3, n_estimators=200, n_jobs=-1, random_state=42;, score=0.660 total time=   0.8s\n",
      "[CV 4/5] END criterion=mae, min_samples_split=3, n_estimators=200, n_jobs=-1, random_state=42;, score=0.563 total time=   0.7s\n",
      "[CV 5/5] END criterion=mae, min_samples_split=3, n_estimators=200, n_jobs=-1, random_state=42;, score=0.508 total time=   0.8s\n",
      "[CV 1/5] END criterion=mae, min_samples_split=3, n_estimators=200, n_jobs=-1, random_state=135;, score=0.658 total time=   1.6s\n",
      "[CV 2/5] END criterion=mae, min_samples_split=3, n_estimators=200, n_jobs=-1, random_state=135;, score=0.483 total time=   1.0s\n",
      "[CV 3/5] END criterion=mae, min_samples_split=3, n_estimators=200, n_jobs=-1, random_state=135;, score=0.677 total time=   0.9s\n",
      "[CV 4/5] END criterion=mae, min_samples_split=3, n_estimators=200, n_jobs=-1, random_state=135;, score=0.560 total time=   1.1s\n",
      "[CV 5/5] END criterion=mae, min_samples_split=3, n_estimators=200, n_jobs=-1, random_state=135;, score=0.498 total time=   1.0s\n",
      "[CV 1/5] END criterion=mae, min_samples_split=3, n_estimators=200, n_jobs=1, random_state=42;, score=0.660 total time=   3.7s\n",
      "[CV 2/5] END criterion=mae, min_samples_split=3, n_estimators=200, n_jobs=1, random_state=42;, score=0.468 total time=   2.9s\n",
      "[CV 3/5] END criterion=mae, min_samples_split=3, n_estimators=200, n_jobs=1, random_state=42;, score=0.660 total time=   2.7s\n",
      "[CV 4/5] END criterion=mae, min_samples_split=3, n_estimators=200, n_jobs=1, random_state=42;, score=0.563 total time=   2.7s\n",
      "[CV 5/5] END criterion=mae, min_samples_split=3, n_estimators=200, n_jobs=1, random_state=42;, score=0.508 total time=   2.6s\n",
      "[CV 1/5] END criterion=mae, min_samples_split=3, n_estimators=200, n_jobs=1, random_state=135;, score=0.658 total time=   2.7s\n",
      "[CV 2/5] END criterion=mae, min_samples_split=3, n_estimators=200, n_jobs=1, random_state=135;, score=0.483 total time=   2.5s\n",
      "[CV 3/5] END criterion=mae, min_samples_split=3, n_estimators=200, n_jobs=1, random_state=135;, score=0.677 total time=   2.6s\n",
      "[CV 4/5] END criterion=mae, min_samples_split=3, n_estimators=200, n_jobs=1, random_state=135;, score=0.560 total time=   2.7s\n",
      "[CV 5/5] END criterion=mae, min_samples_split=3, n_estimators=200, n_jobs=1, random_state=135;, score=0.498 total time=   2.7s\n"
     ]
    },
    {
     "data": {
      "text/html": [
       "<style>#sk-container-id-3 {color: black;background-color: white;}#sk-container-id-3 pre{padding: 0;}#sk-container-id-3 div.sk-toggleable {background-color: white;}#sk-container-id-3 label.sk-toggleable__label {cursor: pointer;display: block;width: 100%;margin-bottom: 0;padding: 0.3em;box-sizing: border-box;text-align: center;}#sk-container-id-3 label.sk-toggleable__label-arrow:before {content: \"▸\";float: left;margin-right: 0.25em;color: #696969;}#sk-container-id-3 label.sk-toggleable__label-arrow:hover:before {color: black;}#sk-container-id-3 div.sk-estimator:hover label.sk-toggleable__label-arrow:before {color: black;}#sk-container-id-3 div.sk-toggleable__content {max-height: 0;max-width: 0;overflow: hidden;text-align: left;background-color: #f0f8ff;}#sk-container-id-3 div.sk-toggleable__content pre {margin: 0.2em;color: black;border-radius: 0.25em;background-color: #f0f8ff;}#sk-container-id-3 input.sk-toggleable__control:checked~div.sk-toggleable__content {max-height: 200px;max-width: 100%;overflow: auto;}#sk-container-id-3 input.sk-toggleable__control:checked~label.sk-toggleable__label-arrow:before {content: \"▾\";}#sk-container-id-3 div.sk-estimator input.sk-toggleable__control:checked~label.sk-toggleable__label {background-color: #d4ebff;}#sk-container-id-3 div.sk-label input.sk-toggleable__control:checked~label.sk-toggleable__label {background-color: #d4ebff;}#sk-container-id-3 input.sk-hidden--visually {border: 0;clip: rect(1px 1px 1px 1px);clip: rect(1px, 1px, 1px, 1px);height: 1px;margin: -1px;overflow: hidden;padding: 0;position: absolute;width: 1px;}#sk-container-id-3 div.sk-estimator {font-family: monospace;background-color: #f0f8ff;border: 1px dotted black;border-radius: 0.25em;box-sizing: border-box;margin-bottom: 0.5em;}#sk-container-id-3 div.sk-estimator:hover {background-color: #d4ebff;}#sk-container-id-3 div.sk-parallel-item::after {content: \"\";width: 100%;border-bottom: 1px solid gray;flex-grow: 1;}#sk-container-id-3 div.sk-label:hover label.sk-toggleable__label {background-color: #d4ebff;}#sk-container-id-3 div.sk-serial::before {content: \"\";position: absolute;border-left: 1px solid gray;box-sizing: border-box;top: 0;bottom: 0;left: 50%;z-index: 0;}#sk-container-id-3 div.sk-serial {display: flex;flex-direction: column;align-items: center;background-color: white;padding-right: 0.2em;padding-left: 0.2em;position: relative;}#sk-container-id-3 div.sk-item {position: relative;z-index: 1;}#sk-container-id-3 div.sk-parallel {display: flex;align-items: stretch;justify-content: center;background-color: white;position: relative;}#sk-container-id-3 div.sk-item::before, #sk-container-id-3 div.sk-parallel-item::before {content: \"\";position: absolute;border-left: 1px solid gray;box-sizing: border-box;top: 0;bottom: 0;left: 50%;z-index: -1;}#sk-container-id-3 div.sk-parallel-item {display: flex;flex-direction: column;z-index: 1;position: relative;background-color: white;}#sk-container-id-3 div.sk-parallel-item:first-child::after {align-self: flex-end;width: 50%;}#sk-container-id-3 div.sk-parallel-item:last-child::after {align-self: flex-start;width: 50%;}#sk-container-id-3 div.sk-parallel-item:only-child::after {width: 0;}#sk-container-id-3 div.sk-dashed-wrapped {border: 1px dashed gray;margin: 0 0.4em 0.5em 0.4em;box-sizing: border-box;padding-bottom: 0.4em;background-color: white;}#sk-container-id-3 div.sk-label label {font-family: monospace;font-weight: bold;display: inline-block;line-height: 1.2em;}#sk-container-id-3 div.sk-label-container {text-align: center;}#sk-container-id-3 div.sk-container {/* jupyter's `normalize.less` sets `[hidden] { display: none; }` but bootstrap.min.css set `[hidden] { display: none !important; }` so we also need the `!important` here to be able to override the default hidden behavior on the sphinx rendered scikit-learn.org. See: https://github.com/scikit-learn/scikit-learn/issues/21755 */display: inline-block !important;position: relative;}#sk-container-id-3 div.sk-text-repr-fallback {display: none;}</style><div id=\"sk-container-id-3\" class=\"sk-top-container\"><div class=\"sk-text-repr-fallback\"><pre>GridSearchCV(cv=5, estimator=RandomForestRegressor(criterion=&#x27;mse&#x27;),\n",
       "             param_grid={&#x27;criterion&#x27;: [&#x27;mse&#x27;, &#x27;mae&#x27;],\n",
       "                         &#x27;min_samples_split&#x27;: [2, 3],\n",
       "                         &#x27;n_estimators&#x27;: [100, 200], &#x27;n_jobs&#x27;: [-1, 1],\n",
       "                         &#x27;random_state&#x27;: [42, 135]},\n",
       "             verbose=5)</pre><b>In a Jupyter environment, please rerun this cell to show the HTML representation or trust the notebook. <br />On GitHub, the HTML representation is unable to render, please try loading this page with nbviewer.org.</b></div><div class=\"sk-container\" hidden><div class=\"sk-item sk-dashed-wrapped\"><div class=\"sk-label-container\"><div class=\"sk-label sk-toggleable\"><input class=\"sk-toggleable__control sk-hidden--visually\" id=\"sk-estimator-id-7\" type=\"checkbox\" ><label for=\"sk-estimator-id-7\" class=\"sk-toggleable__label sk-toggleable__label-arrow\">GridSearchCV</label><div class=\"sk-toggleable__content\"><pre>GridSearchCV(cv=5, estimator=RandomForestRegressor(criterion=&#x27;mse&#x27;),\n",
       "             param_grid={&#x27;criterion&#x27;: [&#x27;mse&#x27;, &#x27;mae&#x27;],\n",
       "                         &#x27;min_samples_split&#x27;: [2, 3],\n",
       "                         &#x27;n_estimators&#x27;: [100, 200], &#x27;n_jobs&#x27;: [-1, 1],\n",
       "                         &#x27;random_state&#x27;: [42, 135]},\n",
       "             verbose=5)</pre></div></div></div><div class=\"sk-parallel\"><div class=\"sk-parallel-item\"><div class=\"sk-item\"><div class=\"sk-label-container\"><div class=\"sk-label sk-toggleable\"><input class=\"sk-toggleable__control sk-hidden--visually\" id=\"sk-estimator-id-8\" type=\"checkbox\" ><label for=\"sk-estimator-id-8\" class=\"sk-toggleable__label sk-toggleable__label-arrow\">estimator: RandomForestRegressor</label><div class=\"sk-toggleable__content\"><pre>RandomForestRegressor(criterion=&#x27;mse&#x27;)</pre></div></div></div><div class=\"sk-serial\"><div class=\"sk-item\"><div class=\"sk-estimator sk-toggleable\"><input class=\"sk-toggleable__control sk-hidden--visually\" id=\"sk-estimator-id-9\" type=\"checkbox\" ><label for=\"sk-estimator-id-9\" class=\"sk-toggleable__label sk-toggleable__label-arrow\">RandomForestRegressor</label><div class=\"sk-toggleable__content\"><pre>RandomForestRegressor(criterion=&#x27;mse&#x27;)</pre></div></div></div></div></div></div></div></div></div></div>"
      ],
      "text/plain": [
       "GridSearchCV(cv=5, estimator=RandomForestRegressor(criterion='mse'),\n",
       "             param_grid={'criterion': ['mse', 'mae'],\n",
       "                         'min_samples_split': [2, 3],\n",
       "                         'n_estimators': [100, 200], 'n_jobs': [-1, 1],\n",
       "                         'random_state': [42, 135]},\n",
       "             verbose=5)"
      ]
     },
     "execution_count": 183,
     "metadata": {},
     "output_type": "execute_result"
    }
   ],
   "source": [
    "rf_grid.fit(x_train,y_train)"
   ]
  },
  {
   "cell_type": "code",
   "execution_count": 184,
   "id": "b8e0329e",
   "metadata": {},
   "outputs": [
    {
     "data": {
      "text/plain": [
       "{'criterion': 'mse',\n",
       " 'min_samples_split': 3,\n",
       " 'n_estimators': 200,\n",
       " 'n_jobs': -1,\n",
       " 'random_state': 42}"
      ]
     },
     "execution_count": 184,
     "metadata": {},
     "output_type": "execute_result"
    }
   ],
   "source": [
    "rf_grid.best_params_"
   ]
  },
  {
   "cell_type": "code",
   "execution_count": 185,
   "id": "60d1ac15",
   "metadata": {},
   "outputs": [],
   "source": [
    "rf=RandomForestRegressor(criterion='mse',min_samples_split=3,\n",
    " n_estimators= 200,n_jobs=-1,random_state=42)"
   ]
  },
  {
   "cell_type": "code",
   "execution_count": 186,
   "id": "18a15535",
   "metadata": {},
   "outputs": [
    {
     "data": {
      "text/plain": [
       "0.6749775800016911"
      ]
     },
     "execution_count": 186,
     "metadata": {},
     "output_type": "execute_result"
    }
   ],
   "source": [
    "rf.fit(x_train,y_train)\n",
    "pred_test = rf.predict(x_test)\n",
    "acc = r2_score(y_test,pred_test)\n",
    "\n",
    "acc"
   ]
  },
  {
   "cell_type": "code",
   "execution_count": 187,
   "id": "c16a0616",
   "metadata": {},
   "outputs": [
    {
     "name": "stdout",
     "output_type": "stream",
     "text": [
      "Mean Absolute Error:  0.45511148184431727\n",
      "Mean squared Error:  0.353988131569186\n"
     ]
    }
   ],
   "source": [
    "print('Mean Absolute Error: ', mean_absolute_error(y_test,pred_test))\n",
    "print('Mean squared Error: ', mean_squared_error(y_test,pred_test))"
   ]
  },
  {
   "cell_type": "code",
   "execution_count": 189,
   "id": "f1e9cddb",
   "metadata": {},
   "outputs": [
    {
     "data": {
      "text/plain": [
       "['Regression_GlobalPowerPlant.pkl']"
      ]
     },
     "execution_count": 189,
     "metadata": {},
     "output_type": "execute_result"
    }
   ],
   "source": [
    "#Saving the model\n",
    "joblib.dump(rf,\"Regression_GlobalPowerPlant.pkl\")"
   ]
  },
  {
   "cell_type": "code",
   "execution_count": null,
   "id": "ccf79085",
   "metadata": {},
   "outputs": [],
   "source": []
  }
 ],
 "metadata": {
  "kernelspec": {
   "display_name": "Python 3",
   "language": "python",
   "name": "python3"
  },
  "language_info": {
   "codemirror_mode": {
    "name": "ipython",
    "version": 3
   },
   "file_extension": ".py",
   "mimetype": "text/x-python",
   "name": "python",
   "nbconvert_exporter": "python",
   "pygments_lexer": "ipython3",
   "version": "3.8.8"
  }
 },
 "nbformat": 4,
 "nbformat_minor": 5
}
